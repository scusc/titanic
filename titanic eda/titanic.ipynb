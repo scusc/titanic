{
 "cells": [
  {
   "cell_type": "markdown",
   "metadata": {},
   "source": [
    "# ***Titanic_EDA_Student Sai Chand Sunkara***"
   ]
  },
  {
   "cell_type": "code",
   "execution_count": 1,
   "metadata": {},
   "outputs": [],
   "source": [
    "import numpy as np                          #importing all packages for eda\n",
    "import pandas as pd                         \n",
    "import matplotlib.pyplot as plt\n",
    "import seaborn as sns\n",
    "%matplotlib inline"
   ]
  },
  {
   "cell_type": "markdown",
   "metadata": {},
   "source": [
    "# ***step 1 :- variable identification :***"
   ]
  },
  {
   "cell_type": "markdown",
   "metadata": {},
   "source": [
    "Dependent Variable:\n",
    "\n",
    "1.survived\n",
    "2.fare\n",
    "\n",
    "Independent Variables:\n",
    "\n",
    "1.gender\n",
    "2.age\n",
    "3.pclass\n",
    "4.passenger id\n",
    "5.name\n",
    "6.parch\n",
    "7.ticket\n",
    "8.cabin\n",
    "9.sibsp\n",
    "10.embarked\n"
   ]
  },
  {
   "cell_type": "code",
   "execution_count": 2,
   "metadata": {},
   "outputs": [
    {
     "data": {
      "text/html": [
       "<div>\n",
       "<style scoped>\n",
       "    .dataframe tbody tr th:only-of-type {\n",
       "        vertical-align: middle;\n",
       "    }\n",
       "\n",
       "    .dataframe tbody tr th {\n",
       "        vertical-align: top;\n",
       "    }\n",
       "\n",
       "    .dataframe thead th {\n",
       "        text-align: right;\n",
       "    }\n",
       "</style>\n",
       "<table border=\"1\" class=\"dataframe\">\n",
       "  <thead>\n",
       "    <tr style=\"text-align: right;\">\n",
       "      <th></th>\n",
       "      <th>PassengerId</th>\n",
       "      <th>Survived</th>\n",
       "      <th>Pclass</th>\n",
       "      <th>Name</th>\n",
       "      <th>Sex</th>\n",
       "      <th>Age</th>\n",
       "      <th>SibSp</th>\n",
       "      <th>Parch</th>\n",
       "      <th>Ticket</th>\n",
       "      <th>Fare</th>\n",
       "      <th>Cabin</th>\n",
       "      <th>Embarked</th>\n",
       "    </tr>\n",
       "  </thead>\n",
       "  <tbody>\n",
       "    <tr>\n",
       "      <th>0</th>\n",
       "      <td>1</td>\n",
       "      <td>0</td>\n",
       "      <td>3</td>\n",
       "      <td>Braund, Mr. Owen Harris</td>\n",
       "      <td>male</td>\n",
       "      <td>22.0</td>\n",
       "      <td>1</td>\n",
       "      <td>0</td>\n",
       "      <td>A/5 21171</td>\n",
       "      <td>7.2500</td>\n",
       "      <td>NaN</td>\n",
       "      <td>S</td>\n",
       "    </tr>\n",
       "    <tr>\n",
       "      <th>1</th>\n",
       "      <td>2</td>\n",
       "      <td>1</td>\n",
       "      <td>1</td>\n",
       "      <td>Cumings, Mrs. John Bradley (Florence Briggs Th...</td>\n",
       "      <td>female</td>\n",
       "      <td>38.0</td>\n",
       "      <td>1</td>\n",
       "      <td>0</td>\n",
       "      <td>PC 17599</td>\n",
       "      <td>71.2833</td>\n",
       "      <td>C85</td>\n",
       "      <td>C</td>\n",
       "    </tr>\n",
       "    <tr>\n",
       "      <th>2</th>\n",
       "      <td>3</td>\n",
       "      <td>1</td>\n",
       "      <td>3</td>\n",
       "      <td>Heikkinen, Miss. Laina</td>\n",
       "      <td>female</td>\n",
       "      <td>26.0</td>\n",
       "      <td>0</td>\n",
       "      <td>0</td>\n",
       "      <td>STON/O2. 3101282</td>\n",
       "      <td>7.9250</td>\n",
       "      <td>NaN</td>\n",
       "      <td>S</td>\n",
       "    </tr>\n",
       "    <tr>\n",
       "      <th>3</th>\n",
       "      <td>4</td>\n",
       "      <td>1</td>\n",
       "      <td>1</td>\n",
       "      <td>Futrelle, Mrs. Jacques Heath (Lily May Peel)</td>\n",
       "      <td>female</td>\n",
       "      <td>35.0</td>\n",
       "      <td>1</td>\n",
       "      <td>0</td>\n",
       "      <td>113803</td>\n",
       "      <td>53.1000</td>\n",
       "      <td>C123</td>\n",
       "      <td>S</td>\n",
       "    </tr>\n",
       "    <tr>\n",
       "      <th>4</th>\n",
       "      <td>5</td>\n",
       "      <td>0</td>\n",
       "      <td>3</td>\n",
       "      <td>Allen, Mr. William Henry</td>\n",
       "      <td>male</td>\n",
       "      <td>35.0</td>\n",
       "      <td>0</td>\n",
       "      <td>0</td>\n",
       "      <td>373450</td>\n",
       "      <td>8.0500</td>\n",
       "      <td>NaN</td>\n",
       "      <td>S</td>\n",
       "    </tr>\n",
       "  </tbody>\n",
       "</table>\n",
       "</div>"
      ],
      "text/plain": [
       "   PassengerId  Survived  Pclass  \\\n",
       "0            1         0       3   \n",
       "1            2         1       1   \n",
       "2            3         1       3   \n",
       "3            4         1       1   \n",
       "4            5         0       3   \n",
       "\n",
       "                                                Name     Sex   Age  SibSp  \\\n",
       "0                            Braund, Mr. Owen Harris    male  22.0      1   \n",
       "1  Cumings, Mrs. John Bradley (Florence Briggs Th...  female  38.0      1   \n",
       "2                             Heikkinen, Miss. Laina  female  26.0      0   \n",
       "3       Futrelle, Mrs. Jacques Heath (Lily May Peel)  female  35.0      1   \n",
       "4                           Allen, Mr. William Henry    male  35.0      0   \n",
       "\n",
       "   Parch            Ticket     Fare Cabin Embarked  \n",
       "0      0         A/5 21171   7.2500   NaN        S  \n",
       "1      0          PC 17599  71.2833   C85        C  \n",
       "2      0  STON/O2. 3101282   7.9250   NaN        S  \n",
       "3      0            113803  53.1000  C123        S  \n",
       "4      0            373450   8.0500   NaN        S  "
      ]
     },
     "execution_count": 2,
     "metadata": {},
     "output_type": "execute_result"
    }
   ],
   "source": [
    "ship = pd.read_csv('TITANIC.csv')\n",
    "ship.head()                                 #reading the csv using pandas"
   ]
  },
  {
   "cell_type": "code",
   "execution_count": null,
   "metadata": {},
   "outputs": [],
   "source": []
  },
  {
   "cell_type": "code",
   "execution_count": 3,
   "metadata": {},
   "outputs": [
    {
     "name": "stdout",
     "output_type": "stream",
     "text": [
      "<class 'pandas.core.frame.DataFrame'>\n",
      "RangeIndex: 891 entries, 0 to 890\n",
      "Data columns (total 12 columns):\n",
      " #   Column       Non-Null Count  Dtype  \n",
      "---  ------       --------------  -----  \n",
      " 0   PassengerId  891 non-null    int64  \n",
      " 1   Survived     891 non-null    int64  \n",
      " 2   Pclass       891 non-null    int64  \n",
      " 3   Name         891 non-null    object \n",
      " 4   Sex          891 non-null    object \n",
      " 5   Age          714 non-null    float64\n",
      " 6   SibSp        891 non-null    int64  \n",
      " 7   Parch        891 non-null    int64  \n",
      " 8   Ticket       891 non-null    object \n",
      " 9   Fare         891 non-null    float64\n",
      " 10  Cabin        204 non-null    object \n",
      " 11  Embarked     889 non-null    object \n",
      "dtypes: float64(2), int64(5), object(5)\n",
      "memory usage: 83.7+ KB\n"
     ]
    }
   ],
   "source": [
    "ship.info()"
   ]
  },
  {
   "cell_type": "markdown",
   "metadata": {},
   "source": [
    "String:\n",
    "\n",
    "1.name\n",
    "2.sex\n",
    "3.ticket\n",
    "4.cabin\n",
    "5.embarked\n",
    "\n",
    "Numeric:\n",
    "\n",
    "1.passenger id\n",
    "2.survived\n",
    "3.pclass\n",
    "4.sibsp\n",
    "5.age\n",
    "6.parch\n",
    "7.fare"
   ]
  },
  {
   "cell_type": "markdown",
   "metadata": {},
   "source": [
    "Variable Category:\n",
    "\n",
    "Categorical:\n",
    "\n",
    "1.survived\n",
    "2.cabin\n",
    "3.embarked\n",
    "4.gender\n",
    "5.pclass\n",
    "\n",
    "Continuous:\n",
    "\n",
    "1.age\n",
    "2.fare\n",
    "\n",
    "Discreet:\n",
    "\n",
    "1.passenger id\n",
    "2.name\n",
    "3.parch\n",
    "4.sibsp\n",
    "5.ticket"
   ]
  },
  {
   "cell_type": "code",
   "execution_count": 4,
   "metadata": {},
   "outputs": [
    {
     "data": {
      "text/html": [
       "<div>\n",
       "<style scoped>\n",
       "    .dataframe tbody tr th:only-of-type {\n",
       "        vertical-align: middle;\n",
       "    }\n",
       "\n",
       "    .dataframe tbody tr th {\n",
       "        vertical-align: top;\n",
       "    }\n",
       "\n",
       "    .dataframe thead th {\n",
       "        text-align: right;\n",
       "    }\n",
       "</style>\n",
       "<table border=\"1\" class=\"dataframe\">\n",
       "  <thead>\n",
       "    <tr style=\"text-align: right;\">\n",
       "      <th></th>\n",
       "      <th>PassengerId</th>\n",
       "      <th>Survived</th>\n",
       "      <th>Pclass</th>\n",
       "      <th>Age</th>\n",
       "      <th>SibSp</th>\n",
       "      <th>Parch</th>\n",
       "      <th>Fare</th>\n",
       "    </tr>\n",
       "  </thead>\n",
       "  <tbody>\n",
       "    <tr>\n",
       "      <th>count</th>\n",
       "      <td>891.000000</td>\n",
       "      <td>891.000000</td>\n",
       "      <td>891.000000</td>\n",
       "      <td>714.000000</td>\n",
       "      <td>891.000000</td>\n",
       "      <td>891.000000</td>\n",
       "      <td>891.000000</td>\n",
       "    </tr>\n",
       "    <tr>\n",
       "      <th>mean</th>\n",
       "      <td>446.000000</td>\n",
       "      <td>0.383838</td>\n",
       "      <td>2.308642</td>\n",
       "      <td>29.699118</td>\n",
       "      <td>0.523008</td>\n",
       "      <td>0.381594</td>\n",
       "      <td>32.204208</td>\n",
       "    </tr>\n",
       "    <tr>\n",
       "      <th>std</th>\n",
       "      <td>257.353842</td>\n",
       "      <td>0.486592</td>\n",
       "      <td>0.836071</td>\n",
       "      <td>14.526497</td>\n",
       "      <td>1.102743</td>\n",
       "      <td>0.806057</td>\n",
       "      <td>49.693429</td>\n",
       "    </tr>\n",
       "    <tr>\n",
       "      <th>min</th>\n",
       "      <td>1.000000</td>\n",
       "      <td>0.000000</td>\n",
       "      <td>1.000000</td>\n",
       "      <td>0.420000</td>\n",
       "      <td>0.000000</td>\n",
       "      <td>0.000000</td>\n",
       "      <td>0.000000</td>\n",
       "    </tr>\n",
       "    <tr>\n",
       "      <th>25%</th>\n",
       "      <td>223.500000</td>\n",
       "      <td>0.000000</td>\n",
       "      <td>2.000000</td>\n",
       "      <td>20.125000</td>\n",
       "      <td>0.000000</td>\n",
       "      <td>0.000000</td>\n",
       "      <td>7.910400</td>\n",
       "    </tr>\n",
       "    <tr>\n",
       "      <th>50%</th>\n",
       "      <td>446.000000</td>\n",
       "      <td>0.000000</td>\n",
       "      <td>3.000000</td>\n",
       "      <td>28.000000</td>\n",
       "      <td>0.000000</td>\n",
       "      <td>0.000000</td>\n",
       "      <td>14.454200</td>\n",
       "    </tr>\n",
       "    <tr>\n",
       "      <th>75%</th>\n",
       "      <td>668.500000</td>\n",
       "      <td>1.000000</td>\n",
       "      <td>3.000000</td>\n",
       "      <td>38.000000</td>\n",
       "      <td>1.000000</td>\n",
       "      <td>0.000000</td>\n",
       "      <td>31.000000</td>\n",
       "    </tr>\n",
       "    <tr>\n",
       "      <th>max</th>\n",
       "      <td>891.000000</td>\n",
       "      <td>1.000000</td>\n",
       "      <td>3.000000</td>\n",
       "      <td>80.000000</td>\n",
       "      <td>8.000000</td>\n",
       "      <td>6.000000</td>\n",
       "      <td>512.329200</td>\n",
       "    </tr>\n",
       "  </tbody>\n",
       "</table>\n",
       "</div>"
      ],
      "text/plain": [
       "       PassengerId    Survived      Pclass         Age       SibSp  \\\n",
       "count   891.000000  891.000000  891.000000  714.000000  891.000000   \n",
       "mean    446.000000    0.383838    2.308642   29.699118    0.523008   \n",
       "std     257.353842    0.486592    0.836071   14.526497    1.102743   \n",
       "min       1.000000    0.000000    1.000000    0.420000    0.000000   \n",
       "25%     223.500000    0.000000    2.000000   20.125000    0.000000   \n",
       "50%     446.000000    0.000000    3.000000   28.000000    0.000000   \n",
       "75%     668.500000    1.000000    3.000000   38.000000    1.000000   \n",
       "max     891.000000    1.000000    3.000000   80.000000    8.000000   \n",
       "\n",
       "            Parch        Fare  \n",
       "count  891.000000  891.000000  \n",
       "mean     0.381594   32.204208  \n",
       "std      0.806057   49.693429  \n",
       "min      0.000000    0.000000  \n",
       "25%      0.000000    7.910400  \n",
       "50%      0.000000   14.454200  \n",
       "75%      0.000000   31.000000  \n",
       "max      6.000000  512.329200  "
      ]
     },
     "execution_count": 4,
     "metadata": {},
     "output_type": "execute_result"
    }
   ],
   "source": [
    "ship.describe()"
   ]
  },
  {
   "cell_type": "markdown",
   "metadata": {},
   "source": [
    "# ***step 2 :- univariate analysis***"
   ]
  },
  {
   "cell_type": "markdown",
   "metadata": {},
   "source": [
    "# categorical variables : bar plots"
   ]
  },
  {
   "cell_type": "code",
   "execution_count": 5,
   "metadata": {},
   "outputs": [
    {
     "data": {
      "text/plain": [
       "<matplotlib.axes._subplots.AxesSubplot at 0x7fbe47cd7be0>"
      ]
     },
     "execution_count": 5,
     "metadata": {},
     "output_type": "execute_result"
    },
    {
     "data": {
      "image/png": "[encoded data removed]",
      "text/plain": [
       "<Figure size 432x288 with 1 Axes>"
      ]
     },
     "metadata": {
      "needs_background": "light"
     },
     "output_type": "display_data"
    }
   ],
   "source": [
    "plt.title(\"Survived\")                #survived\n",
    "sns.countplot('Survived',data=ship)"
   ]
  },
  {
   "cell_type": "code",
   "execution_count": null,
   "metadata": {},
   "outputs": [],
   "source": []
  },
  {
   "cell_type": "code",
   "execution_count": 6,
   "metadata": {},
   "outputs": [
    {
     "data": {
      "text/plain": [
       "<matplotlib.axes._subplots.AxesSubplot at 0x7fbe45c68c70>"
      ]
     },
     "execution_count": 6,
     "metadata": {},
     "output_type": "execute_result"
    },
    {
     "data": {
      "image/png": "[encoded data removed]",
      "text/plain": [
       "<Figure size 432x288 with 1 Axes>"
      ]
     },
     "metadata": {
      "needs_background": "light"
     },
     "output_type": "display_data"
    }
   ],
   "source": [
    "plt.title(\"pclass\")                #pclass\n",
    "sns.countplot('Pclass',data=ship)"
   ]
  },
  {
   "cell_type": "code",
   "execution_count": 7,
   "metadata": {},
   "outputs": [
    {
     "data": {
      "text/plain": [
       "<matplotlib.axes._subplots.AxesSubplot at 0x7fbe45589c70>"
      ]
     },
     "execution_count": 7,
     "metadata": {},
     "output_type": "execute_result"
    },
    {
     "data": {
      "image/png": "[encoded data removed]",
      "text/plain": [
       "<Figure size 432x288 with 1 Axes>"
      ]
     },
     "metadata": {
      "needs_background": "light"
     },
     "output_type": "display_data"
    }
   ],
   "source": [
    "plt.title(\"cabin\")                #cabin\n",
    "sns.countplot('Cabin',data=ship)"
   ]
  },
  {
   "cell_type": "code",
   "execution_count": 8,
   "metadata": {},
   "outputs": [
    {
     "data": {
      "text/plain": [
       "<matplotlib.axes._subplots.AxesSubplot at 0x7fbe4525d820>"
      ]
     },
     "execution_count": 8,
     "metadata": {},
     "output_type": "execute_result"
    },
    {
     "data": {
      "image/png": "[encoded data removed]",
      "text/plain": [
       "<Figure size 432x288 with 1 Axes>"
      ]
     },
     "metadata": {
      "needs_background": "light"
     },
     "output_type": "display_data"
    }
   ],
   "source": [
    "plt.title(\"Embarked\")                #embarked\n",
    "sns.countplot('Embarked',data=ship)"
   ]
  },
  {
   "cell_type": "code",
   "execution_count": 9,
   "metadata": {},
   "outputs": [
    {
     "data": {
      "text/plain": [
       "<matplotlib.axes._subplots.AxesSubplot at 0x7fbe452316d0>"
      ]
     },
     "execution_count": 9,
     "metadata": {},
     "output_type": "execute_result"
    },
    {
     "data": {
      "image/png": "[encoded data removed]",
      "text/plain": [
       "<Figure size 432x288 with 1 Axes>"
      ]
     },
     "metadata": {
      "needs_background": "light"
     },
     "output_type": "display_data"
    }
   ],
   "source": [
    "plt.title(\"Gender\")                #gender\n",
    "sns.countplot('Sex',data=ship)"
   ]
  },
  {
   "cell_type": "markdown",
   "metadata": {},
   "source": [
    "# continous vaiables : box plots"
   ]
  },
  {
   "cell_type": "code",
   "execution_count": 10,
   "metadata": {},
   "outputs": [
    {
     "data": {
      "text/plain": [
       "<matplotlib.axes._subplots.AxesSubplot at 0x7fbe45173220>"
      ]
     },
     "execution_count": 10,
     "metadata": {},
     "output_type": "execute_result"
    },
    {
     "data": {
      "image/png": "[encoded data removed]",
      "text/plain": [
       "<Figure size 432x288 with 1 Axes>"
      ]
     },
     "metadata": {
      "needs_background": "light"
     },
     "output_type": "display_data"
    }
   ],
   "source": [
    "sns.boxplot(y='Age', data=ship)"
   ]
  },
  {
   "cell_type": "code",
   "execution_count": 11,
   "metadata": {},
   "outputs": [
    {
     "data": {
      "text/plain": [
       "<matplotlib.axes._subplots.AxesSubplot at 0x7fbe451549d0>"
      ]
     },
     "execution_count": 11,
     "metadata": {},
     "output_type": "execute_result"
    },
    {
     "data": {
      "image/png": "[encoded data removed]",
      "text/plain": [
       "<Figure size 432x288 with 1 Axes>"
      ]
     },
     "metadata": {
      "needs_background": "light"
     },
     "output_type": "display_data"
    }
   ],
   "source": [
    "sns.distplot(ship['Age'], bins=10)"
   ]
  },
  {
   "cell_type": "code",
   "execution_count": 12,
   "metadata": {},
   "outputs": [
    {
     "data": {
      "text/plain": [
       "<matplotlib.axes._subplots.AxesSubplot at 0x7fbe430b55b0>"
      ]
     },
     "execution_count": 12,
     "metadata": {},
     "output_type": "execute_result"
    },
    {
     "data": {
      "image/png": "[encoded data removed]",
      "text/plain": [
       "<Figure size 432x288 with 1 Axes>"
      ]
     },
     "metadata": {
      "needs_background": "light"
     },
     "output_type": "display_data"
    }
   ],
   "source": [
    "sns.boxplot(y='Fare', data=ship)"
   ]
  },
  {
   "cell_type": "markdown",
   "metadata": {},
   "source": [
    "***In both \"Age\" and \"Fare\" we can find many outliers in them***"
   ]
  },
  {
   "cell_type": "code",
   "execution_count": 13,
   "metadata": {},
   "outputs": [
    {
     "data": {
      "text/plain": [
       "<matplotlib.axes._subplots.AxesSubplot at 0x7fbe43093430>"
      ]
     },
     "execution_count": 13,
     "metadata": {},
     "output_type": "execute_result"
    },
    {
     "data": {
      "image/png": "[encoded data removed]",
      "text/plain": [
       "<Figure size 432x288 with 1 Axes>"
      ]
     },
     "metadata": {
      "needs_background": "light"
     },
     "output_type": "display_data"
    }
   ],
   "source": [
    "sns.distplot(ship['Fare'], bins=10)"
   ]
  },
  {
   "cell_type": "markdown",
   "metadata": {},
   "source": [
    "# ***step 3 :- Bivariate analysis*** "
   ]
  },
  {
   "cell_type": "markdown",
   "metadata": {},
   "source": [
    "1.continuous vs continuous\n",
    "\n",
    "2.categorical vs categorical\n",
    "\n",
    "3.continuous vs categorical"
   ]
  },
  {
   "cell_type": "markdown",
   "metadata": {},
   "source": [
    "***categorical vs categorical*** : ***gender vs survived***"
   ]
  },
  {
   "cell_type": "code",
   "execution_count": 14,
   "metadata": {},
   "outputs": [
    {
     "data": {
      "text/plain": [
       "Sex     Survived\n",
       "female  0            81\n",
       "        1           233\n",
       "male    0           468\n",
       "        1           109\n",
       "Name: Survived, dtype: int64"
      ]
     },
     "execution_count": 14,
     "metadata": {},
     "output_type": "execute_result"
    }
   ],
   "source": [
    "ship.groupby(['Sex','Survived'])['Survived'].count()"
   ]
  },
  {
   "cell_type": "code",
   "execution_count": 15,
   "metadata": {},
   "outputs": [
    {
     "data": {
      "image/png": "[encoded data removed]",
      "text/plain": [
       "<Figure size 1800x720 with 2 Axes>"
      ]
     },
     "metadata": {
      "needs_background": "light"
     },
     "output_type": "display_data"
    }
   ],
   "source": [
    "f,ax=plt.subplots(1,2,figsize=(25,10))\n",
    "ship[['Sex','Survived']].groupby(['Sex']).mean().plot.bar(ax=ax[0])\n",
    "ax[0].set_title('Survived vs Sex')\n",
    "sns.countplot('Sex',hue='Survived',data=ship,ax=ax[1])\n",
    "ax[1].set_title('Sex:Survived vs Dead')\n",
    "plt.show()"
   ]
  },
  {
   "cell_type": "markdown",
   "metadata": {},
   "source": [
    "more number of women survived than men with women arround 75% and men arround 18%"
   ]
  },
  {
   "cell_type": "markdown",
   "metadata": {},
   "source": [
    "***embarked, pclass, gender, survived crosstable and barplot***"
   ]
  },
  {
   "cell_type": "code",
   "execution_count": 16,
   "metadata": {},
   "outputs": [
    {
     "data": {
      "text/html": [
       "<style  type=\"text/css\" >\n",
       "    #T_f942449e_cf07_11ea_b703_9bd5c15889f9row0_col0 {\n",
       "            background-color:  #fffff3;\n",
       "            color:  #000000;\n",
       "        }    #T_f942449e_cf07_11ea_b703_9bd5c15889f9row0_col1 {\n",
       "            background-color:  #ffff4e;\n",
       "            color:  #000000;\n",
       "        }    #T_f942449e_cf07_11ea_b703_9bd5c15889f9row0_col2 {\n",
       "            background-color:  #ffffcc;\n",
       "            color:  #000000;\n",
       "        }    #T_f942449e_cf07_11ea_b703_9bd5c15889f9row0_col3 {\n",
       "            background-color:  #ffff65;\n",
       "            color:  #000000;\n",
       "        }    #T_f942449e_cf07_11ea_b703_9bd5c15889f9row0_col4 {\n",
       "            background-color:  #ffffa4;\n",
       "            color:  #000000;\n",
       "        }    #T_f942449e_cf07_11ea_b703_9bd5c15889f9row1_col0 {\n",
       "            background-color:  #ffffff;\n",
       "            color:  #000000;\n",
       "        }    #T_f942449e_cf07_11ea_b703_9bd5c15889f9row1_col1 {\n",
       "            background-color:  #ffffe7;\n",
       "            color:  #000000;\n",
       "        }    #T_f942449e_cf07_11ea_b703_9bd5c15889f9row1_col2 {\n",
       "            background-color:  #fffff3;\n",
       "            color:  #000000;\n",
       "        }    #T_f942449e_cf07_11ea_b703_9bd5c15889f9row1_col3 {\n",
       "            background-color:  #ffffef;\n",
       "            color:  #000000;\n",
       "        }    #T_f942449e_cf07_11ea_b703_9bd5c15889f9row1_col4 {\n",
       "            background-color:  #ffffef;\n",
       "            color:  #000000;\n",
       "        }    #T_f942449e_cf07_11ea_b703_9bd5c15889f9row2_col0 {\n",
       "            background-color:  #ffff9d;\n",
       "            color:  #000000;\n",
       "        }    #T_f942449e_cf07_11ea_b703_9bd5c15889f9row2_col1 {\n",
       "            background-color:  #ffffc4;\n",
       "            color:  #000000;\n",
       "        }    #T_f942449e_cf07_11ea_b703_9bd5c15889f9row2_col2 {\n",
       "            background-color:  #ffffbc;\n",
       "            color:  #000000;\n",
       "        }    #T_f942449e_cf07_11ea_b703_9bd5c15889f9row2_col3 {\n",
       "            background-color:  #ffffa4;\n",
       "            color:  #000000;\n",
       "        }    #T_f942449e_cf07_11ea_b703_9bd5c15889f9row2_col4 {\n",
       "            background-color:  #ffffb8;\n",
       "            color:  #000000;\n",
       "        }    #T_f942449e_cf07_11ea_b703_9bd5c15889f9row3_col0 {\n",
       "            background-color:  #ffffff;\n",
       "            color:  #000000;\n",
       "        }    #T_f942449e_cf07_11ea_b703_9bd5c15889f9row3_col1 {\n",
       "            background-color:  #ffffff;\n",
       "            color:  #000000;\n",
       "        }    #T_f942449e_cf07_11ea_b703_9bd5c15889f9row3_col2 {\n",
       "            background-color:  #ffffff;\n",
       "            color:  #000000;\n",
       "        }    #T_f942449e_cf07_11ea_b703_9bd5c15889f9row3_col3 {\n",
       "            background-color:  #ffffff;\n",
       "            color:  #000000;\n",
       "        }    #T_f942449e_cf07_11ea_b703_9bd5c15889f9row3_col4 {\n",
       "            background-color:  #ffffff;\n",
       "            color:  #000000;\n",
       "        }    #T_f942449e_cf07_11ea_b703_9bd5c15889f9row4_col0 {\n",
       "            background-color:  #ffffff;\n",
       "            color:  #000000;\n",
       "        }    #T_f942449e_cf07_11ea_b703_9bd5c15889f9row4_col1 {\n",
       "            background-color:  #fffffb;\n",
       "            color:  #000000;\n",
       "        }    #T_f942449e_cf07_11ea_b703_9bd5c15889f9row4_col2 {\n",
       "            background-color:  #ffffff;\n",
       "            color:  #000000;\n",
       "        }    #T_f942449e_cf07_11ea_b703_9bd5c15889f9row4_col3 {\n",
       "            background-color:  #ffffff;\n",
       "            color:  #000000;\n",
       "        }    #T_f942449e_cf07_11ea_b703_9bd5c15889f9row4_col4 {\n",
       "            background-color:  #ffffff;\n",
       "            color:  #000000;\n",
       "        }    #T_f942449e_cf07_11ea_b703_9bd5c15889f9row5_col0 {\n",
       "            background-color:  #ffff91;\n",
       "            color:  #000000;\n",
       "        }    #T_f942449e_cf07_11ea_b703_9bd5c15889f9row5_col1 {\n",
       "            background-color:  #ffff9d;\n",
       "            color:  #000000;\n",
       "        }    #T_f942449e_cf07_11ea_b703_9bd5c15889f9row5_col2 {\n",
       "            background-color:  #ffffb4;\n",
       "            color:  #000000;\n",
       "        }    #T_f942449e_cf07_11ea_b703_9bd5c15889f9row5_col3 {\n",
       "            background-color:  #ffffe3;\n",
       "            color:  #000000;\n",
       "        }    #T_f942449e_cf07_11ea_b703_9bd5c15889f9row5_col4 {\n",
       "            background-color:  #ffffb0;\n",
       "            color:  #000000;\n",
       "        }    #T_f942449e_cf07_11ea_b703_9bd5c15889f9row6_col0 {\n",
       "            background-color:  #ffffe7;\n",
       "            color:  #000000;\n",
       "        }    #T_f942449e_cf07_11ea_b703_9bd5c15889f9row6_col1 {\n",
       "            background-color:  #ffff3a;\n",
       "            color:  #000000;\n",
       "        }    #T_f942449e_cf07_11ea_b703_9bd5c15889f9row6_col2 {\n",
       "            background-color:  #ffff95;\n",
       "            color:  #000000;\n",
       "        }    #T_f942449e_cf07_11ea_b703_9bd5c15889f9row6_col3 {\n",
       "            background-color:  #fffe00;\n",
       "            color:  #000000;\n",
       "        }    #T_f942449e_cf07_11ea_b703_9bd5c15889f9row6_col4 {\n",
       "            background-color:  #ffff71;\n",
       "            color:  #000000;\n",
       "        }    #T_f942449e_cf07_11ea_b703_9bd5c15889f9row7_col0 {\n",
       "            background-color:  #ffffb8;\n",
       "            color:  #000000;\n",
       "        }    #T_f942449e_cf07_11ea_b703_9bd5c15889f9row7_col1 {\n",
       "            background-color:  #fffc00;\n",
       "            color:  #000000;\n",
       "        }    #T_f942449e_cf07_11ea_b703_9bd5c15889f9row7_col2 {\n",
       "            background-color:  #ffff52;\n",
       "            color:  #000000;\n",
       "        }    #T_f942449e_cf07_11ea_b703_9bd5c15889f9row7_col3 {\n",
       "            background-color:  #ffff75;\n",
       "            color:  #000000;\n",
       "        }    #T_f942449e_cf07_11ea_b703_9bd5c15889f9row7_col4 {\n",
       "            background-color:  #ffff4a;\n",
       "            color:  #000000;\n",
       "        }    #T_f942449e_cf07_11ea_b703_9bd5c15889f9row8_col0 {\n",
       "            background-color:  #e20000;\n",
       "            color:  #f1f1f1;\n",
       "        }    #T_f942449e_cf07_11ea_b703_9bd5c15889f9row8_col1 {\n",
       "            background-color:  #ffff75;\n",
       "            color:  #000000;\n",
       "        }    #T_f942449e_cf07_11ea_b703_9bd5c15889f9row8_col2 {\n",
       "            background-color:  #ff5e00;\n",
       "            color:  #000000;\n",
       "        }    #T_f942449e_cf07_11ea_b703_9bd5c15889f9row8_col3 {\n",
       "            background-color:  #ffda00;\n",
       "            color:  #000000;\n",
       "        }    #T_f942449e_cf07_11ea_b703_9bd5c15889f9row8_col4 {\n",
       "            background-color:  #ffa000;\n",
       "            color:  #000000;\n",
       "        }    #T_f942449e_cf07_11ea_b703_9bd5c15889f9row9_col0 {\n",
       "            background-color:  #0b0000;\n",
       "            color:  #f1f1f1;\n",
       "        }    #T_f942449e_cf07_11ea_b703_9bd5c15889f9row9_col1 {\n",
       "            background-color:  #0b0000;\n",
       "            color:  #f1f1f1;\n",
       "        }    #T_f942449e_cf07_11ea_b703_9bd5c15889f9row9_col2 {\n",
       "            background-color:  #0b0000;\n",
       "            color:  #f1f1f1;\n",
       "        }    #T_f942449e_cf07_11ea_b703_9bd5c15889f9row9_col3 {\n",
       "            background-color:  #0b0000;\n",
       "            color:  #f1f1f1;\n",
       "        }    #T_f942449e_cf07_11ea_b703_9bd5c15889f9row9_col4 {\n",
       "            background-color:  #0b0000;\n",
       "            color:  #f1f1f1;\n",
       "        }</style><table id=\"T_f942449e_cf07_11ea_b703_9bd5c15889f9\" ><thead>    <tr>        <th class=\"blank\" ></th>        <th class=\"index_name level0\" >Sex</th>        <th class=\"col_heading level0 col0\" colspan=2>female</th>        <th class=\"col_heading level0 col2\" colspan=2>male</th>        <th class=\"col_heading level0 col4\" >All</th>    </tr>    <tr>        <th class=\"blank\" ></th>        <th class=\"index_name level1\" >Survived</th>        <th class=\"col_heading level1 col0\" >0</th>        <th class=\"col_heading level1 col1\" >1</th>        <th class=\"col_heading level1 col2\" >0</th>        <th class=\"col_heading level1 col3\" >1</th>        <th class=\"col_heading level1 col4\" ></th>    </tr>    <tr>        <th class=\"index_name level0\" >Embarked</th>        <th class=\"index_name level1\" >Pclass</th>        <th class=\"blank\" ></th>        <th class=\"blank\" ></th>        <th class=\"blank\" ></th>        <th class=\"blank\" ></th>        <th class=\"blank\" ></th>    </tr></thead><tbody>\n",
       "                <tr>\n",
       "                        <th id=\"T_f942449e_cf07_11ea_b703_9bd5c15889f9level0_row0\" class=\"row_heading level0 row0\" rowspan=3>C</th>\n",
       "                        <th id=\"T_f942449e_cf07_11ea_b703_9bd5c15889f9level1_row0\" class=\"row_heading level1 row0\" >1</th>\n",
       "                        <td id=\"T_f942449e_cf07_11ea_b703_9bd5c15889f9row0_col0\" class=\"data row0 col0\" >1</td>\n",
       "                        <td id=\"T_f942449e_cf07_11ea_b703_9bd5c15889f9row0_col1\" class=\"data row0 col1\" >42</td>\n",
       "                        <td id=\"T_f942449e_cf07_11ea_b703_9bd5c15889f9row0_col2\" class=\"data row0 col2\" >25</td>\n",
       "                        <td id=\"T_f942449e_cf07_11ea_b703_9bd5c15889f9row0_col3\" class=\"data row0 col3\" >17</td>\n",
       "                        <td id=\"T_f942449e_cf07_11ea_b703_9bd5c15889f9row0_col4\" class=\"data row0 col4\" >85</td>\n",
       "            </tr>\n",
       "            <tr>\n",
       "                                <th id=\"T_f942449e_cf07_11ea_b703_9bd5c15889f9level1_row1\" class=\"row_heading level1 row1\" >2</th>\n",
       "                        <td id=\"T_f942449e_cf07_11ea_b703_9bd5c15889f9row1_col0\" class=\"data row1 col0\" >0</td>\n",
       "                        <td id=\"T_f942449e_cf07_11ea_b703_9bd5c15889f9row1_col1\" class=\"data row1 col1\" >7</td>\n",
       "                        <td id=\"T_f942449e_cf07_11ea_b703_9bd5c15889f9row1_col2\" class=\"data row1 col2\" >8</td>\n",
       "                        <td id=\"T_f942449e_cf07_11ea_b703_9bd5c15889f9row1_col3\" class=\"data row1 col3\" >2</td>\n",
       "                        <td id=\"T_f942449e_cf07_11ea_b703_9bd5c15889f9row1_col4\" class=\"data row1 col4\" >17</td>\n",
       "            </tr>\n",
       "            <tr>\n",
       "                                <th id=\"T_f942449e_cf07_11ea_b703_9bd5c15889f9level1_row2\" class=\"row_heading level1 row2\" >3</th>\n",
       "                        <td id=\"T_f942449e_cf07_11ea_b703_9bd5c15889f9row2_col0\" class=\"data row2 col0\" >8</td>\n",
       "                        <td id=\"T_f942449e_cf07_11ea_b703_9bd5c15889f9row2_col1\" class=\"data row2 col1\" >15</td>\n",
       "                        <td id=\"T_f942449e_cf07_11ea_b703_9bd5c15889f9row2_col2\" class=\"data row2 col2\" >33</td>\n",
       "                        <td id=\"T_f942449e_cf07_11ea_b703_9bd5c15889f9row2_col3\" class=\"data row2 col3\" >10</td>\n",
       "                        <td id=\"T_f942449e_cf07_11ea_b703_9bd5c15889f9row2_col4\" class=\"data row2 col4\" >66</td>\n",
       "            </tr>\n",
       "            <tr>\n",
       "                        <th id=\"T_f942449e_cf07_11ea_b703_9bd5c15889f9level0_row3\" class=\"row_heading level0 row3\" rowspan=3>Q</th>\n",
       "                        <th id=\"T_f942449e_cf07_11ea_b703_9bd5c15889f9level1_row3\" class=\"row_heading level1 row3\" >1</th>\n",
       "                        <td id=\"T_f942449e_cf07_11ea_b703_9bd5c15889f9row3_col0\" class=\"data row3 col0\" >0</td>\n",
       "                        <td id=\"T_f942449e_cf07_11ea_b703_9bd5c15889f9row3_col1\" class=\"data row3 col1\" >1</td>\n",
       "                        <td id=\"T_f942449e_cf07_11ea_b703_9bd5c15889f9row3_col2\" class=\"data row3 col2\" >1</td>\n",
       "                        <td id=\"T_f942449e_cf07_11ea_b703_9bd5c15889f9row3_col3\" class=\"data row3 col3\" >0</td>\n",
       "                        <td id=\"T_f942449e_cf07_11ea_b703_9bd5c15889f9row3_col4\" class=\"data row3 col4\" >2</td>\n",
       "            </tr>\n",
       "            <tr>\n",
       "                                <th id=\"T_f942449e_cf07_11ea_b703_9bd5c15889f9level1_row4\" class=\"row_heading level1 row4\" >2</th>\n",
       "                        <td id=\"T_f942449e_cf07_11ea_b703_9bd5c15889f9row4_col0\" class=\"data row4 col0\" >0</td>\n",
       "                        <td id=\"T_f942449e_cf07_11ea_b703_9bd5c15889f9row4_col1\" class=\"data row4 col1\" >2</td>\n",
       "                        <td id=\"T_f942449e_cf07_11ea_b703_9bd5c15889f9row4_col2\" class=\"data row4 col2\" >1</td>\n",
       "                        <td id=\"T_f942449e_cf07_11ea_b703_9bd5c15889f9row4_col3\" class=\"data row4 col3\" >0</td>\n",
       "                        <td id=\"T_f942449e_cf07_11ea_b703_9bd5c15889f9row4_col4\" class=\"data row4 col4\" >3</td>\n",
       "            </tr>\n",
       "            <tr>\n",
       "                                <th id=\"T_f942449e_cf07_11ea_b703_9bd5c15889f9level1_row5\" class=\"row_heading level1 row5\" >3</th>\n",
       "                        <td id=\"T_f942449e_cf07_11ea_b703_9bd5c15889f9row5_col0\" class=\"data row5 col0\" >9</td>\n",
       "                        <td id=\"T_f942449e_cf07_11ea_b703_9bd5c15889f9row5_col1\" class=\"data row5 col1\" >24</td>\n",
       "                        <td id=\"T_f942449e_cf07_11ea_b703_9bd5c15889f9row5_col2\" class=\"data row5 col2\" >36</td>\n",
       "                        <td id=\"T_f942449e_cf07_11ea_b703_9bd5c15889f9row5_col3\" class=\"data row5 col3\" >3</td>\n",
       "                        <td id=\"T_f942449e_cf07_11ea_b703_9bd5c15889f9row5_col4\" class=\"data row5 col4\" >72</td>\n",
       "            </tr>\n",
       "            <tr>\n",
       "                        <th id=\"T_f942449e_cf07_11ea_b703_9bd5c15889f9level0_row6\" class=\"row_heading level0 row6\" rowspan=3>S</th>\n",
       "                        <th id=\"T_f942449e_cf07_11ea_b703_9bd5c15889f9level1_row6\" class=\"row_heading level1 row6\" >1</th>\n",
       "                        <td id=\"T_f942449e_cf07_11ea_b703_9bd5c15889f9row6_col0\" class=\"data row6 col0\" >2</td>\n",
       "                        <td id=\"T_f942449e_cf07_11ea_b703_9bd5c15889f9row6_col1\" class=\"data row6 col1\" >46</td>\n",
       "                        <td id=\"T_f942449e_cf07_11ea_b703_9bd5c15889f9row6_col2\" class=\"data row6 col2\" >51</td>\n",
       "                        <td id=\"T_f942449e_cf07_11ea_b703_9bd5c15889f9row6_col3\" class=\"data row6 col3\" >28</td>\n",
       "                        <td id=\"T_f942449e_cf07_11ea_b703_9bd5c15889f9row6_col4\" class=\"data row6 col4\" >127</td>\n",
       "            </tr>\n",
       "            <tr>\n",
       "                                <th id=\"T_f942449e_cf07_11ea_b703_9bd5c15889f9level1_row7\" class=\"row_heading level1 row7\" >2</th>\n",
       "                        <td id=\"T_f942449e_cf07_11ea_b703_9bd5c15889f9row7_col0\" class=\"data row7 col0\" >6</td>\n",
       "                        <td id=\"T_f942449e_cf07_11ea_b703_9bd5c15889f9row7_col1\" class=\"data row7 col1\" >61</td>\n",
       "                        <td id=\"T_f942449e_cf07_11ea_b703_9bd5c15889f9row7_col2\" class=\"data row7 col2\" >82</td>\n",
       "                        <td id=\"T_f942449e_cf07_11ea_b703_9bd5c15889f9row7_col3\" class=\"data row7 col3\" >15</td>\n",
       "                        <td id=\"T_f942449e_cf07_11ea_b703_9bd5c15889f9row7_col4\" class=\"data row7 col4\" >164</td>\n",
       "            </tr>\n",
       "            <tr>\n",
       "                                <th id=\"T_f942449e_cf07_11ea_b703_9bd5c15889f9level1_row8\" class=\"row_heading level1 row8\" >3</th>\n",
       "                        <td id=\"T_f942449e_cf07_11ea_b703_9bd5c15889f9row8_col0\" class=\"data row8 col0\" >55</td>\n",
       "                        <td id=\"T_f942449e_cf07_11ea_b703_9bd5c15889f9row8_col1\" class=\"data row8 col1\" >33</td>\n",
       "                        <td id=\"T_f942449e_cf07_11ea_b703_9bd5c15889f9row8_col2\" class=\"data row8 col2\" >231</td>\n",
       "                        <td id=\"T_f942449e_cf07_11ea_b703_9bd5c15889f9row8_col3\" class=\"data row8 col3\" >34</td>\n",
       "                        <td id=\"T_f942449e_cf07_11ea_b703_9bd5c15889f9row8_col4\" class=\"data row8 col4\" >353</td>\n",
       "            </tr>\n",
       "            <tr>\n",
       "                        <th id=\"T_f942449e_cf07_11ea_b703_9bd5c15889f9level0_row9\" class=\"row_heading level0 row9\" >All</th>\n",
       "                        <th id=\"T_f942449e_cf07_11ea_b703_9bd5c15889f9level1_row9\" class=\"row_heading level1 row9\" ></th>\n",
       "                        <td id=\"T_f942449e_cf07_11ea_b703_9bd5c15889f9row9_col0\" class=\"data row9 col0\" >81</td>\n",
       "                        <td id=\"T_f942449e_cf07_11ea_b703_9bd5c15889f9row9_col1\" class=\"data row9 col1\" >231</td>\n",
       "                        <td id=\"T_f942449e_cf07_11ea_b703_9bd5c15889f9row9_col2\" class=\"data row9 col2\" >468</td>\n",
       "                        <td id=\"T_f942449e_cf07_11ea_b703_9bd5c15889f9row9_col3\" class=\"data row9 col3\" >109</td>\n",
       "                        <td id=\"T_f942449e_cf07_11ea_b703_9bd5c15889f9row9_col4\" class=\"data row9 col4\" >889</td>\n",
       "            </tr>\n",
       "    </tbody></table>"
      ],
      "text/plain": [
       "<pandas.io.formats.style.Styler at 0x7fbe42f5ad90>"
      ]
     },
     "execution_count": 16,
     "metadata": {},
     "output_type": "execute_result"
    }
   ],
   "source": [
    "pd.crosstab([ship.Embarked,ship.Pclass],[ship.Sex,ship.Survived],margins=True).style.background_gradient(cmap='hot_r')"
   ]
  },
  {
   "cell_type": "markdown",
   "metadata": {},
   "source": [
    "***correation matrix :***"
   ]
  },
  {
   "cell_type": "code",
   "execution_count": 17,
   "metadata": {},
   "outputs": [
    {
     "data": {
      "image/png": "[encoded data removed]",
      "text/plain": [
       "<Figure size 648x432 with 2 Axes>"
      ]
     },
     "metadata": {
      "needs_background": "light"
     },
     "output_type": "display_data"
    }
   ],
   "source": [
    "corr = ship.corr()\n",
    "f,ax = plt.subplots(figsize=(9,6))\n",
    "sns.heatmap(corr, annot = True)\n",
    "plt.show()"
   ]
  },
  {
   "cell_type": "code",
   "execution_count": 18,
   "metadata": {},
   "outputs": [
    {
     "data": {
      "image/png": "[encoded data removed]",
      "text/plain": [
       "<Figure size 1440x1080 with 4 Axes>"
      ]
     },
     "metadata": {
      "needs_background": "light"
     },
     "output_type": "display_data"
    }
   ],
   "source": [
    "f,ax=plt.subplots(2,2,figsize=(20,15))\n",
    "sns.countplot('Embarked',data=ship,ax=ax[0,0])\n",
    "ax[0,0].set_title('No. Of Passengers')\n",
    "sns.countplot('Embarked',hue='Sex',data=ship,ax=ax[0,1])\n",
    "ax[0,1].set_title('Embarked vs Pclass')\n",
    "plt.subplots_adjust(wspace=0.2,hspace=0.5)\n",
    "ax[1,0].set_title('Male-Female Split for Embarked')\n",
    "sns.countplot('Embarked',hue='Survived',data=ship,ax=ax[1,0])\n",
    "ax[1,1].set_title('Embarked vs Survived')\n",
    "sns.countplot('Embarked',hue='Pclass',data=ship,ax=ax[1,1])\n",
    "plt.show()"
   ]
  },
  {
   "cell_type": "markdown",
   "metadata": {},
   "source": [
    "***1.more number of passengers are in Embarked class \"S\"***\n",
    "\n",
    "***2.In all embarkments more number of males are present***\n",
    "\n",
    "***3.more people survived in C***\n",
    "\n",
    "***4.In Q almost all are of pclass 3***\n"
   ]
  },
  {
   "cell_type": "markdown",
   "metadata": {},
   "source": [
    "***categorical vs continuous*** : ***age vs survived***"
   ]
  },
  {
   "cell_type": "code",
   "execution_count": null,
   "metadata": {},
   "outputs": [],
   "source": []
  },
  {
   "cell_type": "code",
   "execution_count": null,
   "metadata": {},
   "outputs": [],
   "source": []
  },
  {
   "cell_type": "code",
   "execution_count": 19,
   "metadata": {},
   "outputs": [
    {
     "data": {
      "image/png": "[encoded data removed]",
      "text/plain": [
       "<Figure size 1800x720 with 2 Axes>"
      ]
     },
     "metadata": {
      "needs_background": "light"
     },
     "output_type": "display_data"
    }
   ],
   "source": [
    "f,ax=plt.subplots(1,2,figsize=(25,10))\n",
    "sns.violinplot(\"Pclass\",\"Age\", hue=\"Survived\", data=ship,split=True,ax=ax[0])\n",
    "ax[0].set_title('Pclass and Age vs Survived')\n",
    "sns.violinplot(\"Sex\",\"Age\", hue=\"Survived\", data=ship,split=True,ax=ax[1])\n",
    "ax[1].set_title('Gender and Age vs Survived')\n",
    "plt.show()"
   ]
  },
  {
   "cell_type": "markdown",
   "metadata": {},
   "source": [
    "from the above violen plots :-\n",
    "         \n",
    "         pclass and age vs survived : 1.outliers in pclass 3\n",
    "                                      2.pclass 1 has better distribution plot\n",
    "                                      3.more age less chance of survival\n",
    "         \n",
    "         gender and age vs survived : 1.outliers are male \n",
    "                                      2.females has better distribution plot"
   ]
  },
  {
   "cell_type": "markdown",
   "metadata": {},
   "source": [
    "# ***step 4 :- treating missing values***"
   ]
  },
  {
   "cell_type": "markdown",
   "metadata": {},
   "source": [
    "***for age :***"
   ]
  },
  {
   "cell_type": "markdown",
   "metadata": {},
   "source": [
    "Missing values in this case can be traeted by passengers names.\n",
    "The addressing before the passenger names can be used to identify the passenger whether he/she is a mr.,mrs.,miss.,dr.,...etc. using this information we find the mean ages of every category and the mean value is added to the NaN values "
   ]
  },
  {
   "cell_type": "code",
   "execution_count": 20,
   "metadata": {},
   "outputs": [
    {
     "data": {
      "text/plain": [
       "PassengerId      0\n",
       "Survived         0\n",
       "Pclass           0\n",
       "Name             0\n",
       "Sex              0\n",
       "Age            177\n",
       "SibSp            0\n",
       "Parch            0\n",
       "Ticket           0\n",
       "Fare             0\n",
       "Cabin          687\n",
       "Embarked         2\n",
       "dtype: int64"
      ]
     },
     "execution_count": 20,
     "metadata": {},
     "output_type": "execute_result"
    }
   ],
   "source": [
    "ship.isnull().sum() #total number of missing values"
   ]
  },
  {
   "cell_type": "markdown",
   "metadata": {},
   "source": [
    "missing values are in \"Age\" and \"Cabin\" and \"Embarked\"\n",
    "\n",
    "***in this dataset we dont need \"cabin\" for any reference so we can remove cabin for treating missing values***"
   ]
  },
  {
   "cell_type": "code",
   "execution_count": 21,
   "metadata": {},
   "outputs": [
    {
     "data": {
      "text/plain": [
       "0                              Braund, Mr. Owen Harris\n",
       "1    Cumings, Mrs. John Bradley (Florence Briggs Th...\n",
       "2                               Heikkinen, Miss. Laina\n",
       "3         Futrelle, Mrs. Jacques Heath (Lily May Peel)\n",
       "4                             Allen, Mr. William Henry\n",
       "5                                     Moran, Mr. James\n",
       "6                              McCarthy, Mr. Timothy J\n",
       "7                       Palsson, Master. Gosta Leonard\n",
       "8    Johnson, Mrs. Oscar W (Elisabeth Vilhelmina Berg)\n",
       "9                  Nasser, Mrs. Nicholas (Adele Achem)\n",
       "Name: Name, dtype: object"
      ]
     },
     "execution_count": 21,
     "metadata": {},
     "output_type": "execute_result"
    }
   ],
   "source": [
    "ship.Name.head(10)"
   ]
  },
  {
   "cell_type": "code",
   "execution_count": 22,
   "metadata": {},
   "outputs": [
    {
     "data": {
      "text/plain": [
       "Mr          517\n",
       "Miss        182\n",
       "Mrs         125\n",
       "Master       40\n",
       "Dr            7\n",
       "Rev           6\n",
       "Major         2\n",
       "Mlle          2\n",
       "Col           2\n",
       "Don           1\n",
       "Sir           1\n",
       "Lady          1\n",
       "Ms            1\n",
       "Capt          1\n",
       "Mme           1\n",
       "Countess      1\n",
       "Jonkheer      1\n",
       "Name: Addressing, dtype: int64"
      ]
     },
     "execution_count": 22,
     "metadata": {},
     "output_type": "execute_result"
    }
   ],
   "source": [
    "data = ship\n",
    "data['Addressing'] = data.Name.str.extract(r'([A-Za-z]+)\\.', expand=False)\n",
    "data.Addressing.value_counts()"
   ]
  },
  {
   "cell_type": "code",
   "execution_count": 23,
   "metadata": {},
   "outputs": [
    {
     "data": {
      "image/png": "[encoded data removed]",
      "text/plain": [
       "<Figure size 1800x720 with 1 Axes>"
      ]
     },
     "metadata": {
      "needs_background": "light"
     },
     "output_type": "display_data"
    }
   ],
   "source": [
    "plt.figure(figsize=(25,10))\n",
    "train_data = data[:len(ship)]\n",
    "sns.boxplot(x='Addressing', y='Age', data=train_data)\n",
    "plt.show()"
   ]
  },
  {
   "cell_type": "code",
   "execution_count": 24,
   "metadata": {},
   "outputs": [],
   "source": [
    "ship['Addressing'].replace(['Mlle','Mme','Ms','Dr','Major','Lady','Countess','Jonkheer','Col','Rev','Capt','Sir','Don'],['Miss','Miss','Miss','Mr','Mr','Mrs','Mrs','Other','Other','Other','Mr','Mr','Mr'],inplace=True)"
   ]
  },
  {
   "cell_type": "markdown",
   "metadata": {},
   "source": []
  },
  {
   "cell_type": "code",
   "execution_count": 25,
   "metadata": {},
   "outputs": [
    {
     "data": {
      "text/plain": [
       "Addressing\n",
       "Master     4.574167\n",
       "Miss      21.860000\n",
       "Mr        32.739609\n",
       "Mrs       35.981818\n",
       "Other     45.888889\n",
       "Name: Age, dtype: float64"
      ]
     },
     "execution_count": 25,
     "metadata": {},
     "output_type": "execute_result"
    }
   ],
   "source": [
    "ship.groupby('Addressing')['Age'].mean()"
   ]
  },
  {
   "cell_type": "code",
   "execution_count": 26,
   "metadata": {},
   "outputs": [],
   "source": [
    "data.loc[(ship.Age.isnull())&(data.Addressing=='Mr'),'Age']=33\n",
    "data.loc[(ship.Age.isnull())&(data.Addressing=='Mrs'),'Age']=36\n",
    "data.loc[(ship.Age.isnull())&(data.Addressing=='Master'),'Age']=5\n",
    "data.loc[(ship.Age.isnull())&(data.Addressing=='Miss'),'Age']=22\n",
    "data.loc[(ship.Age.isnull())&(data.Addressing=='Other'),'Age']=46"
   ]
  },
  {
   "cell_type": "markdown",
   "metadata": {},
   "source": [
    "***for Embarked:***"
   ]
  },
  {
   "cell_type": "markdown",
   "metadata": {},
   "source": [
    "for \"embarked\" as there are only two missing values we can fill them with the mode of all embarked values"
   ]
  },
  {
   "cell_type": "code",
   "execution_count": 27,
   "metadata": {},
   "outputs": [],
   "source": [
    "#mode of embarked is \"S\" "
   ]
  },
  {
   "cell_type": "code",
   "execution_count": 28,
   "metadata": {},
   "outputs": [],
   "source": [
    "ship['Embarked'].fillna(ship.Embarked.mode()[0], inplace=True)"
   ]
  },
  {
   "cell_type": "code",
   "execution_count": 29,
   "metadata": {},
   "outputs": [
    {
     "data": {
      "text/plain": [
       "PassengerId      0\n",
       "Survived         0\n",
       "Pclass           0\n",
       "Name             0\n",
       "Sex              0\n",
       "Age              0\n",
       "SibSp            0\n",
       "Parch            0\n",
       "Ticket           0\n",
       "Fare             0\n",
       "Cabin          687\n",
       "Embarked         0\n",
       "Addressing       0\n",
       "dtype: int64"
      ]
     },
     "execution_count": 29,
     "metadata": {},
     "output_type": "execute_result"
    }
   ],
   "source": [
    "ship.isnull().sum()   #check again no need of \"Cabin\""
   ]
  },
  {
   "cell_type": "markdown",
   "metadata": {},
   "source": [
    "# ***step 5 :- outliers detection***"
   ]
  },
  {
   "cell_type": "code",
   "execution_count": 30,
   "metadata": {},
   "outputs": [
    {
     "data": {
      "text/plain": [
       "Text(0.5, 1.0, 'Age')"
      ]
     },
     "execution_count": 30,
     "metadata": {},
     "output_type": "execute_result"
    },
    {
     "data": {
      "image/png": "[encoded data removed]",
      "text/plain": [
       "<Figure size 432x288 with 1 Axes>"
      ]
     },
     "metadata": {
      "needs_background": "light"
     },
     "output_type": "display_data"
    }
   ],
   "source": [
    "# detect outliers from Age, SibSp and Fare\n",
    "sns.boxplot(y='Age', data=ship)\n",
    "plt.title(\"Age\")"
   ]
  },
  {
   "cell_type": "code",
   "execution_count": 31,
   "metadata": {},
   "outputs": [
    {
     "data": {
      "text/plain": [
       "Text(0.5, 1.0, 'Distplot of age')"
      ]
     },
     "execution_count": 31,
     "metadata": {},
     "output_type": "execute_result"
    },
    {
     "data": {
      "image/png": "[encoded data removed]",
      "text/plain": [
       "<Figure size 432x288 with 1 Axes>"
      ]
     },
     "metadata": {
      "needs_background": "light"
     },
     "output_type": "display_data"
    }
   ],
   "source": [
    "sns.distplot(ship['Age'], bins=4)\n",
    "plt.title(\"Distplot of age\")"
   ]
  },
  {
   "cell_type": "code",
   "execution_count": 32,
   "metadata": {},
   "outputs": [
    {
     "data": {
      "text/plain": [
       "Text(0.5, 1.0, 'Sibsp')"
      ]
     },
     "execution_count": 32,
     "metadata": {},
     "output_type": "execute_result"
    },
    {
     "data": {
      "image/png": "[encoded data removed]",
      "text/plain": [
       "<Figure size 432x288 with 1 Axes>"
      ]
     },
     "metadata": {
      "needs_background": "light"
     },
     "output_type": "display_data"
    }
   ],
   "source": [
    "sns.boxplot(y='SibSp', data=ship)\n",
    "plt.title(\"Sibsp\")"
   ]
  },
  {
   "cell_type": "code",
   "execution_count": 33,
   "metadata": {},
   "outputs": [
    {
     "data": {
      "text/plain": [
       "Text(0.5, 1.0, 'Distplot of SibSp')"
      ]
     },
     "execution_count": 33,
     "metadata": {},
     "output_type": "execute_result"
    },
    {
     "data": {
      "image/png": "[encoded data removed]",
      "text/plain": [
       "<Figure size 432x288 with 1 Axes>"
      ]
     },
     "metadata": {
      "needs_background": "light"
     },
     "output_type": "display_data"
    }
   ],
   "source": [
    "sns.distplot(ship['SibSp'], bins=4)\n",
    "plt.title(\"Distplot of SibSp\")"
   ]
  },
  {
   "cell_type": "code",
   "execution_count": 34,
   "metadata": {},
   "outputs": [
    {
     "data": {
      "text/plain": [
       "Text(0.5, 1.0, 'Fare')"
      ]
     },
     "execution_count": 34,
     "metadata": {},
     "output_type": "execute_result"
    },
    {
     "data": {
      "image/png": "[encoded data removed]",
      "text/plain": [
       "<Figure size 432x288 with 1 Axes>"
      ]
     },
     "metadata": {
      "needs_background": "light"
     },
     "output_type": "display_data"
    }
   ],
   "source": [
    "sns.boxplot(y='Fare', data=ship)\n",
    "plt.title(\"Fare\")"
   ]
  },
  {
   "cell_type": "code",
   "execution_count": 35,
   "metadata": {},
   "outputs": [
    {
     "data": {
      "text/plain": [
       "Text(0.5, 1.0, 'Distplot of Fare')"
      ]
     },
     "execution_count": 35,
     "metadata": {},
     "output_type": "execute_result"
    },
    {
     "data": {
      "image/png": "[encoded data removed]",
      "text/plain": [
       "<Figure size 432x288 with 1 Axes>"
      ]
     },
     "metadata": {
      "needs_background": "light"
     },
     "output_type": "display_data"
    }
   ],
   "source": [
    "sns.distplot(ship['Fare'], bins=4)\n",
    "plt.title(\"Distplot of Fare\")"
   ]
  },
  {
   "cell_type": "code",
   "execution_count": null,
   "metadata": {},
   "outputs": [],
   "source": []
  },
  {
   "cell_type": "code",
   "execution_count": 36,
   "metadata": {},
   "outputs": [
    {
     "name": "stdout",
     "output_type": "stream",
     "text": [
      "inter-quartile range of Age is 14.0\n",
      "upper outlier limit is 57.0\n",
      "lower outlier limit is 1.0\n",
      "\n",
      "inter-quartile range of SibSp is 1.0\n",
      "upper outlier limit is 2.5\n",
      "lower outlier limit is -1.5\n",
      "\n",
      "inter-quartile range of Fare is 23.0896\n",
      "upper outlier limit is 65.6344\n",
      "lower outlier limit is -26.724\n",
      "\n"
     ]
    }
   ],
   "source": [
    "cols = ['Age', 'SibSp', 'Fare']\n",
    "for i in cols:\n",
    "    IQR = ship[i].quantile(0.75)-ship[i].quantile(0.25)\n",
    "    print(\"inter-quartile range of {} is {}\".format(i,IQR))\n",
    "    Upper_OutlierLimit = ship[i].quantile(0.75) + 1.5*IQR\n",
    "    Lower_OutlierLimit = ship[i].quantile(0.25) - 1.5*IQR\n",
    "    print(\"upper outlier limit is\",Upper_OutlierLimit)\n",
    "    print(\"lower outlier limit is\",Lower_OutlierLimit)\n",
    "    print(\"\")\n",
    "    Outliers = pd.DataFrame(ship[(ship[i]>=Upper_OutlierLimit) | (ship[i]<=Lower_OutlierLimit)])"
   ]
  },
  {
   "cell_type": "code",
   "execution_count": 37,
   "metadata": {},
   "outputs": [
    {
     "data": {
      "text/html": [
       "<div>\n",
       "<style scoped>\n",
       "    .dataframe tbody tr th:only-of-type {\n",
       "        vertical-align: middle;\n",
       "    }\n",
       "\n",
       "    .dataframe tbody tr th {\n",
       "        vertical-align: top;\n",
       "    }\n",
       "\n",
       "    .dataframe thead th {\n",
       "        text-align: right;\n",
       "    }\n",
       "</style>\n",
       "<table border=\"1\" class=\"dataframe\">\n",
       "  <thead>\n",
       "    <tr style=\"text-align: right;\">\n",
       "      <th></th>\n",
       "      <th>PassengerId</th>\n",
       "      <th>Survived</th>\n",
       "      <th>Pclass</th>\n",
       "      <th>Name</th>\n",
       "      <th>Sex</th>\n",
       "      <th>Age</th>\n",
       "      <th>SibSp</th>\n",
       "      <th>Parch</th>\n",
       "      <th>Ticket</th>\n",
       "      <th>Fare</th>\n",
       "      <th>Cabin</th>\n",
       "      <th>Embarked</th>\n",
       "      <th>Addressing</th>\n",
       "    </tr>\n",
       "  </thead>\n",
       "  <tbody>\n",
       "    <tr>\n",
       "      <th>1</th>\n",
       "      <td>2</td>\n",
       "      <td>1</td>\n",
       "      <td>1</td>\n",
       "      <td>Cumings, Mrs. John Bradley (Florence Briggs Th...</td>\n",
       "      <td>female</td>\n",
       "      <td>38.0</td>\n",
       "      <td>1</td>\n",
       "      <td>0</td>\n",
       "      <td>PC 17599</td>\n",
       "      <td>71.2833</td>\n",
       "      <td>C85</td>\n",
       "      <td>C</td>\n",
       "      <td>Mrs</td>\n",
       "    </tr>\n",
       "    <tr>\n",
       "      <th>27</th>\n",
       "      <td>28</td>\n",
       "      <td>0</td>\n",
       "      <td>1</td>\n",
       "      <td>Fortune, Mr. Charles Alexander</td>\n",
       "      <td>male</td>\n",
       "      <td>19.0</td>\n",
       "      <td>3</td>\n",
       "      <td>2</td>\n",
       "      <td>19950</td>\n",
       "      <td>263.0000</td>\n",
       "      <td>C23 C25 C27</td>\n",
       "      <td>S</td>\n",
       "      <td>Mr</td>\n",
       "    </tr>\n",
       "    <tr>\n",
       "      <th>31</th>\n",
       "      <td>32</td>\n",
       "      <td>1</td>\n",
       "      <td>1</td>\n",
       "      <td>Spencer, Mrs. William Augustus (Marie Eugenie)</td>\n",
       "      <td>female</td>\n",
       "      <td>36.0</td>\n",
       "      <td>1</td>\n",
       "      <td>0</td>\n",
       "      <td>PC 17569</td>\n",
       "      <td>146.5208</td>\n",
       "      <td>B78</td>\n",
       "      <td>C</td>\n",
       "      <td>Mrs</td>\n",
       "    </tr>\n",
       "    <tr>\n",
       "      <th>34</th>\n",
       "      <td>35</td>\n",
       "      <td>0</td>\n",
       "      <td>1</td>\n",
       "      <td>Meyer, Mr. Edgar Joseph</td>\n",
       "      <td>male</td>\n",
       "      <td>28.0</td>\n",
       "      <td>1</td>\n",
       "      <td>0</td>\n",
       "      <td>PC 17604</td>\n",
       "      <td>82.1708</td>\n",
       "      <td>NaN</td>\n",
       "      <td>C</td>\n",
       "      <td>Mr</td>\n",
       "    </tr>\n",
       "    <tr>\n",
       "      <th>52</th>\n",
       "      <td>53</td>\n",
       "      <td>1</td>\n",
       "      <td>1</td>\n",
       "      <td>Harper, Mrs. Henry Sleeper (Myna Haxtun)</td>\n",
       "      <td>female</td>\n",
       "      <td>49.0</td>\n",
       "      <td>1</td>\n",
       "      <td>0</td>\n",
       "      <td>PC 17572</td>\n",
       "      <td>76.7292</td>\n",
       "      <td>D33</td>\n",
       "      <td>C</td>\n",
       "      <td>Mrs</td>\n",
       "    </tr>\n",
       "    <tr>\n",
       "      <th>...</th>\n",
       "      <td>...</td>\n",
       "      <td>...</td>\n",
       "      <td>...</td>\n",
       "      <td>...</td>\n",
       "      <td>...</td>\n",
       "      <td>...</td>\n",
       "      <td>...</td>\n",
       "      <td>...</td>\n",
       "      <td>...</td>\n",
       "      <td>...</td>\n",
       "      <td>...</td>\n",
       "      <td>...</td>\n",
       "      <td>...</td>\n",
       "    </tr>\n",
       "    <tr>\n",
       "      <th>846</th>\n",
       "      <td>847</td>\n",
       "      <td>0</td>\n",
       "      <td>3</td>\n",
       "      <td>Sage, Mr. Douglas Bullen</td>\n",
       "      <td>male</td>\n",
       "      <td>33.0</td>\n",
       "      <td>8</td>\n",
       "      <td>2</td>\n",
       "      <td>CA. 2343</td>\n",
       "      <td>69.5500</td>\n",
       "      <td>NaN</td>\n",
       "      <td>S</td>\n",
       "      <td>Mr</td>\n",
       "    </tr>\n",
       "    <tr>\n",
       "      <th>849</th>\n",
       "      <td>850</td>\n",
       "      <td>1</td>\n",
       "      <td>1</td>\n",
       "      <td>Goldenberg, Mrs. Samuel L (Edwiga Grabowska)</td>\n",
       "      <td>female</td>\n",
       "      <td>36.0</td>\n",
       "      <td>1</td>\n",
       "      <td>0</td>\n",
       "      <td>17453</td>\n",
       "      <td>89.1042</td>\n",
       "      <td>C92</td>\n",
       "      <td>C</td>\n",
       "      <td>Mrs</td>\n",
       "    </tr>\n",
       "    <tr>\n",
       "      <th>856</th>\n",
       "      <td>857</td>\n",
       "      <td>1</td>\n",
       "      <td>1</td>\n",
       "      <td>Wick, Mrs. George Dennick (Mary Hitchcock)</td>\n",
       "      <td>female</td>\n",
       "      <td>45.0</td>\n",
       "      <td>1</td>\n",
       "      <td>1</td>\n",
       "      <td>36928</td>\n",
       "      <td>164.8667</td>\n",
       "      <td>NaN</td>\n",
       "      <td>S</td>\n",
       "      <td>Mrs</td>\n",
       "    </tr>\n",
       "    <tr>\n",
       "      <th>863</th>\n",
       "      <td>864</td>\n",
       "      <td>0</td>\n",
       "      <td>3</td>\n",
       "      <td>Sage, Miss. Dorothy Edith \"Dolly\"</td>\n",
       "      <td>female</td>\n",
       "      <td>22.0</td>\n",
       "      <td>8</td>\n",
       "      <td>2</td>\n",
       "      <td>CA. 2343</td>\n",
       "      <td>69.5500</td>\n",
       "      <td>NaN</td>\n",
       "      <td>S</td>\n",
       "      <td>Miss</td>\n",
       "    </tr>\n",
       "    <tr>\n",
       "      <th>879</th>\n",
       "      <td>880</td>\n",
       "      <td>1</td>\n",
       "      <td>1</td>\n",
       "      <td>Potter, Mrs. Thomas Jr (Lily Alexenia Wilson)</td>\n",
       "      <td>female</td>\n",
       "      <td>56.0</td>\n",
       "      <td>0</td>\n",
       "      <td>1</td>\n",
       "      <td>11767</td>\n",
       "      <td>83.1583</td>\n",
       "      <td>C50</td>\n",
       "      <td>C</td>\n",
       "      <td>Mrs</td>\n",
       "    </tr>\n",
       "  </tbody>\n",
       "</table>\n",
       "<p>116 rows × 13 columns</p>\n",
       "</div>"
      ],
      "text/plain": [
       "     PassengerId  Survived  Pclass  \\\n",
       "1              2         1       1   \n",
       "27            28         0       1   \n",
       "31            32         1       1   \n",
       "34            35         0       1   \n",
       "52            53         1       1   \n",
       "..           ...       ...     ...   \n",
       "846          847         0       3   \n",
       "849          850         1       1   \n",
       "856          857         1       1   \n",
       "863          864         0       3   \n",
       "879          880         1       1   \n",
       "\n",
       "                                                  Name     Sex   Age  SibSp  \\\n",
       "1    Cumings, Mrs. John Bradley (Florence Briggs Th...  female  38.0      1   \n",
       "27                      Fortune, Mr. Charles Alexander    male  19.0      3   \n",
       "31      Spencer, Mrs. William Augustus (Marie Eugenie)  female  36.0      1   \n",
       "34                             Meyer, Mr. Edgar Joseph    male  28.0      1   \n",
       "52            Harper, Mrs. Henry Sleeper (Myna Haxtun)  female  49.0      1   \n",
       "..                                                 ...     ...   ...    ...   \n",
       "846                           Sage, Mr. Douglas Bullen    male  33.0      8   \n",
       "849       Goldenberg, Mrs. Samuel L (Edwiga Grabowska)  female  36.0      1   \n",
       "856         Wick, Mrs. George Dennick (Mary Hitchcock)  female  45.0      1   \n",
       "863                  Sage, Miss. Dorothy Edith \"Dolly\"  female  22.0      8   \n",
       "879      Potter, Mrs. Thomas Jr (Lily Alexenia Wilson)  female  56.0      0   \n",
       "\n",
       "     Parch    Ticket      Fare        Cabin Embarked Addressing  \n",
       "1        0  PC 17599   71.2833          C85        C        Mrs  \n",
       "27       2     19950  263.0000  C23 C25 C27        S         Mr  \n",
       "31       0  PC 17569  146.5208          B78        C        Mrs  \n",
       "34       0  PC 17604   82.1708          NaN        C         Mr  \n",
       "52       0  PC 17572   76.7292          D33        C        Mrs  \n",
       "..     ...       ...       ...          ...      ...        ...  \n",
       "846      2  CA. 2343   69.5500          NaN        S         Mr  \n",
       "849      0     17453   89.1042          C92        C        Mrs  \n",
       "856      1     36928  164.8667          NaN        S        Mrs  \n",
       "863      2  CA. 2343   69.5500          NaN        S       Miss  \n",
       "879      1     11767   83.1583          C50        C        Mrs  \n",
       "\n",
       "[116 rows x 13 columns]"
      ]
     },
     "execution_count": 37,
     "metadata": {},
     "output_type": "execute_result"
    }
   ],
   "source": [
    "Outliers"
   ]
  },
  {
   "cell_type": "code",
   "execution_count": null,
   "metadata": {},
   "outputs": [],
   "source": []
  },
  {
   "cell_type": "code",
   "execution_count": null,
   "metadata": {},
   "outputs": [],
   "source": []
  },
  {
   "cell_type": "markdown",
   "metadata": {},
   "source": [
    "***capping :***"
   ]
  },
  {
   "cell_type": "code",
   "execution_count": 38,
   "metadata": {},
   "outputs": [],
   "source": [
    "indexes = list(Outliers.index)"
   ]
  },
  {
   "cell_type": "code",
   "execution_count": 39,
   "metadata": {},
   "outputs": [
    {
     "name": "stderr",
     "output_type": "stream",
     "text": [
      "<ipython-input-39-407539c17981>:3: SettingWithCopyWarning: \n",
      "A value is trying to be set on a copy of a slice from a DataFrame\n",
      "\n",
      "See the caveats in the documentation: https://pandas.pydata.org/pandas-docs/stable/user_guide/indexing.html#returning-a-view-versus-a-copy\n",
      "  ship[i][j] = ship[i].quantile(0.95)\n"
     ]
    }
   ],
   "source": [
    "for i in cols:\n",
    "    for j in indexes:\n",
    "        ship[i][j] = ship[i].quantile(0.95)"
   ]
  },
  {
   "cell_type": "code",
   "execution_count": 40,
   "metadata": {},
   "outputs": [
    {
     "data": {
      "text/plain": [
       "Text(0.5, 1.0, 'Age')"
      ]
     },
     "execution_count": 40,
     "metadata": {},
     "output_type": "execute_result"
    },
    {
     "data": {
      "image/png": "[encoded data removed]",
      "text/plain": [
       "<Figure size 432x288 with 1 Axes>"
      ]
     },
     "metadata": {
      "needs_background": "light"
     },
     "output_type": "display_data"
    }
   ],
   "source": [
    "sns.boxplot(y='Age', data=ship)\n",
    "plt.title(\"Age\")"
   ]
  },
  {
   "cell_type": "code",
   "execution_count": 41,
   "metadata": {},
   "outputs": [
    {
     "data": {
      "text/plain": [
       "Text(0.5, 1.0, 'SibSp')"
      ]
     },
     "execution_count": 41,
     "metadata": {},
     "output_type": "execute_result"
    },
    {
     "data": {
      "image/png": "[encoded data removed]",
      "text/plain": [
       "<Figure size 432x288 with 1 Axes>"
      ]
     },
     "metadata": {
      "needs_background": "light"
     },
     "output_type": "display_data"
    }
   ],
   "source": [
    "sns.boxplot(y='SibSp', data=ship)\n",
    "plt.title(\"SibSp\")"
   ]
  },
  {
   "cell_type": "code",
   "execution_count": 42,
   "metadata": {},
   "outputs": [
    {
     "data": {
      "text/plain": [
       "Text(0.5, 1.0, 'Fare')"
      ]
     },
     "execution_count": 42,
     "metadata": {},
     "output_type": "execute_result"
    },
    {
     "data": {
      "image/png": "[encoded data removed]",
      "text/plain": [
       "<Figure size 432x288 with 1 Axes>"
      ]
     },
     "metadata": {
      "needs_background": "light"
     },
     "output_type": "display_data"
    }
   ],
   "source": [
    "sns.boxplot(y='Fare', data=ship)\n",
    "plt.title(\"Fare\")"
   ]
  },
  {
   "cell_type": "markdown",
   "metadata": {},
   "source": [
    "***outliers are mostly handled using quantile of 95%***"
   ]
  },
  {
   "cell_type": "markdown",
   "metadata": {},
   "source": [
    "# ***step 6 :-feature engineering-dummy variable creation***"
   ]
  },
  {
   "cell_type": "markdown",
   "metadata": {},
   "source": [
    "***drop the useless columns***"
   ]
  },
  {
   "cell_type": "code",
   "execution_count": 43,
   "metadata": {},
   "outputs": [],
   "source": [
    "cols = ['Name', 'Ticket', 'Cabin']\n",
    "ship = ship.drop(cols, axis=1)"
   ]
  },
  {
   "cell_type": "code",
   "execution_count": 44,
   "metadata": {},
   "outputs": [
    {
     "data": {
      "text/html": [
       "<div>\n",
       "<style scoped>\n",
       "    .dataframe tbody tr th:only-of-type {\n",
       "        vertical-align: middle;\n",
       "    }\n",
       "\n",
       "    .dataframe tbody tr th {\n",
       "        vertical-align: top;\n",
       "    }\n",
       "\n",
       "    .dataframe thead th {\n",
       "        text-align: right;\n",
       "    }\n",
       "</style>\n",
       "<table border=\"1\" class=\"dataframe\">\n",
       "  <thead>\n",
       "    <tr style=\"text-align: right;\">\n",
       "      <th></th>\n",
       "      <th>PassengerId</th>\n",
       "      <th>Survived</th>\n",
       "      <th>Pclass</th>\n",
       "      <th>Sex</th>\n",
       "      <th>Age</th>\n",
       "      <th>SibSp</th>\n",
       "      <th>Parch</th>\n",
       "      <th>Fare</th>\n",
       "      <th>Embarked</th>\n",
       "      <th>Addressing</th>\n",
       "    </tr>\n",
       "  </thead>\n",
       "  <tbody>\n",
       "    <tr>\n",
       "      <th>0</th>\n",
       "      <td>1</td>\n",
       "      <td>0</td>\n",
       "      <td>3</td>\n",
       "      <td>male</td>\n",
       "      <td>22.0</td>\n",
       "      <td>1</td>\n",
       "      <td>0</td>\n",
       "      <td>7.25000</td>\n",
       "      <td>S</td>\n",
       "      <td>Mr</td>\n",
       "    </tr>\n",
       "    <tr>\n",
       "      <th>1</th>\n",
       "      <td>2</td>\n",
       "      <td>1</td>\n",
       "      <td>1</td>\n",
       "      <td>female</td>\n",
       "      <td>54.0</td>\n",
       "      <td>3</td>\n",
       "      <td>0</td>\n",
       "      <td>112.07915</td>\n",
       "      <td>C</td>\n",
       "      <td>Mrs</td>\n",
       "    </tr>\n",
       "    <tr>\n",
       "      <th>2</th>\n",
       "      <td>3</td>\n",
       "      <td>1</td>\n",
       "      <td>3</td>\n",
       "      <td>female</td>\n",
       "      <td>26.0</td>\n",
       "      <td>0</td>\n",
       "      <td>0</td>\n",
       "      <td>7.92500</td>\n",
       "      <td>S</td>\n",
       "      <td>Miss</td>\n",
       "    </tr>\n",
       "    <tr>\n",
       "      <th>3</th>\n",
       "      <td>4</td>\n",
       "      <td>1</td>\n",
       "      <td>1</td>\n",
       "      <td>female</td>\n",
       "      <td>35.0</td>\n",
       "      <td>1</td>\n",
       "      <td>0</td>\n",
       "      <td>53.10000</td>\n",
       "      <td>S</td>\n",
       "      <td>Mrs</td>\n",
       "    </tr>\n",
       "    <tr>\n",
       "      <th>4</th>\n",
       "      <td>5</td>\n",
       "      <td>0</td>\n",
       "      <td>3</td>\n",
       "      <td>male</td>\n",
       "      <td>35.0</td>\n",
       "      <td>0</td>\n",
       "      <td>0</td>\n",
       "      <td>8.05000</td>\n",
       "      <td>S</td>\n",
       "      <td>Mr</td>\n",
       "    </tr>\n",
       "    <tr>\n",
       "      <th>...</th>\n",
       "      <td>...</td>\n",
       "      <td>...</td>\n",
       "      <td>...</td>\n",
       "      <td>...</td>\n",
       "      <td>...</td>\n",
       "      <td>...</td>\n",
       "      <td>...</td>\n",
       "      <td>...</td>\n",
       "      <td>...</td>\n",
       "      <td>...</td>\n",
       "    </tr>\n",
       "    <tr>\n",
       "      <th>886</th>\n",
       "      <td>887</td>\n",
       "      <td>0</td>\n",
       "      <td>2</td>\n",
       "      <td>male</td>\n",
       "      <td>27.0</td>\n",
       "      <td>0</td>\n",
       "      <td>0</td>\n",
       "      <td>13.00000</td>\n",
       "      <td>S</td>\n",
       "      <td>Other</td>\n",
       "    </tr>\n",
       "    <tr>\n",
       "      <th>887</th>\n",
       "      <td>888</td>\n",
       "      <td>1</td>\n",
       "      <td>1</td>\n",
       "      <td>female</td>\n",
       "      <td>19.0</td>\n",
       "      <td>0</td>\n",
       "      <td>0</td>\n",
       "      <td>30.00000</td>\n",
       "      <td>S</td>\n",
       "      <td>Miss</td>\n",
       "    </tr>\n",
       "    <tr>\n",
       "      <th>888</th>\n",
       "      <td>889</td>\n",
       "      <td>0</td>\n",
       "      <td>3</td>\n",
       "      <td>female</td>\n",
       "      <td>22.0</td>\n",
       "      <td>1</td>\n",
       "      <td>2</td>\n",
       "      <td>23.45000</td>\n",
       "      <td>S</td>\n",
       "      <td>Miss</td>\n",
       "    </tr>\n",
       "    <tr>\n",
       "      <th>889</th>\n",
       "      <td>890</td>\n",
       "      <td>1</td>\n",
       "      <td>1</td>\n",
       "      <td>male</td>\n",
       "      <td>26.0</td>\n",
       "      <td>0</td>\n",
       "      <td>0</td>\n",
       "      <td>30.00000</td>\n",
       "      <td>C</td>\n",
       "      <td>Mr</td>\n",
       "    </tr>\n",
       "    <tr>\n",
       "      <th>890</th>\n",
       "      <td>891</td>\n",
       "      <td>0</td>\n",
       "      <td>3</td>\n",
       "      <td>male</td>\n",
       "      <td>32.0</td>\n",
       "      <td>0</td>\n",
       "      <td>0</td>\n",
       "      <td>7.75000</td>\n",
       "      <td>Q</td>\n",
       "      <td>Mr</td>\n",
       "    </tr>\n",
       "  </tbody>\n",
       "</table>\n",
       "<p>891 rows × 10 columns</p>\n",
       "</div>"
      ],
      "text/plain": [
       "     PassengerId  Survived  Pclass     Sex   Age  SibSp  Parch       Fare  \\\n",
       "0              1         0       3    male  22.0      1      0    7.25000   \n",
       "1              2         1       1  female  54.0      3      0  112.07915   \n",
       "2              3         1       3  female  26.0      0      0    7.92500   \n",
       "3              4         1       1  female  35.0      1      0   53.10000   \n",
       "4              5         0       3    male  35.0      0      0    8.05000   \n",
       "..           ...       ...     ...     ...   ...    ...    ...        ...   \n",
       "886          887         0       2    male  27.0      0      0   13.00000   \n",
       "887          888         1       1  female  19.0      0      0   30.00000   \n",
       "888          889         0       3  female  22.0      1      2   23.45000   \n",
       "889          890         1       1    male  26.0      0      0   30.00000   \n",
       "890          891         0       3    male  32.0      0      0    7.75000   \n",
       "\n",
       "    Embarked Addressing  \n",
       "0          S         Mr  \n",
       "1          C        Mrs  \n",
       "2          S       Miss  \n",
       "3          S        Mrs  \n",
       "4          S         Mr  \n",
       "..       ...        ...  \n",
       "886        S      Other  \n",
       "887        S       Miss  \n",
       "888        S       Miss  \n",
       "889        C         Mr  \n",
       "890        Q         Mr  \n",
       "\n",
       "[891 rows x 10 columns]"
      ]
     },
     "execution_count": 44,
     "metadata": {},
     "output_type": "execute_result"
    }
   ],
   "source": [
    "ship          #df used at prediction"
   ]
  },
  {
   "cell_type": "code",
   "execution_count": 45,
   "metadata": {},
   "outputs": [
    {
     "name": "stdout",
     "output_type": "stream",
     "text": [
      "<class 'pandas.core.frame.DataFrame'>\n",
      "RangeIndex: 891 entries, 0 to 890\n",
      "Data columns (total 10 columns):\n",
      " #   Column       Non-Null Count  Dtype  \n",
      "---  ------       --------------  -----  \n",
      " 0   PassengerId  891 non-null    int64  \n",
      " 1   Survived     891 non-null    int64  \n",
      " 2   Pclass       891 non-null    int64  \n",
      " 3   Sex          891 non-null    object \n",
      " 4   Age          891 non-null    float64\n",
      " 5   SibSp        891 non-null    int64  \n",
      " 6   Parch        891 non-null    int64  \n",
      " 7   Fare         891 non-null    float64\n",
      " 8   Embarked     891 non-null    object \n",
      " 9   Addressing   891 non-null    object \n",
      "dtypes: float64(2), int64(5), object(3)\n",
      "memory usage: 69.7+ KB\n"
     ]
    }
   ],
   "source": [
    "ship.info()"
   ]
  },
  {
   "cell_type": "code",
   "execution_count": 46,
   "metadata": {},
   "outputs": [],
   "source": [
    "dummies = []\n",
    "cols = ['Pclass', 'Sex', 'Embarked']\n",
    "for col in cols:\n",
    "    dummies.append(pd.get_dummies(ship[col], drop_first=True))"
   ]
  },
  {
   "cell_type": "markdown",
   "metadata": {},
   "source": [
    "***\"Pclass\", \"Sex\", \"Embarked\" are the columns where we can create dummies***"
   ]
  },
  {
   "cell_type": "code",
   "execution_count": 47,
   "metadata": {},
   "outputs": [
    {
     "data": {
      "text/html": [
       "<div>\n",
       "<style scoped>\n",
       "    .dataframe tbody tr th:only-of-type {\n",
       "        vertical-align: middle;\n",
       "    }\n",
       "\n",
       "    .dataframe tbody tr th {\n",
       "        vertical-align: top;\n",
       "    }\n",
       "\n",
       "    .dataframe thead th {\n",
       "        text-align: right;\n",
       "    }\n",
       "</style>\n",
       "<table border=\"1\" class=\"dataframe\">\n",
       "  <thead>\n",
       "    <tr style=\"text-align: right;\">\n",
       "      <th></th>\n",
       "      <th>2</th>\n",
       "      <th>3</th>\n",
       "      <th>male</th>\n",
       "      <th>Q</th>\n",
       "      <th>S</th>\n",
       "    </tr>\n",
       "  </thead>\n",
       "  <tbody>\n",
       "    <tr>\n",
       "      <th>0</th>\n",
       "      <td>0</td>\n",
       "      <td>1</td>\n",
       "      <td>1</td>\n",
       "      <td>0</td>\n",
       "      <td>1</td>\n",
       "    </tr>\n",
       "    <tr>\n",
       "      <th>1</th>\n",
       "      <td>0</td>\n",
       "      <td>0</td>\n",
       "      <td>0</td>\n",
       "      <td>0</td>\n",
       "      <td>0</td>\n",
       "    </tr>\n",
       "    <tr>\n",
       "      <th>2</th>\n",
       "      <td>0</td>\n",
       "      <td>1</td>\n",
       "      <td>0</td>\n",
       "      <td>0</td>\n",
       "      <td>1</td>\n",
       "    </tr>\n",
       "    <tr>\n",
       "      <th>3</th>\n",
       "      <td>0</td>\n",
       "      <td>0</td>\n",
       "      <td>0</td>\n",
       "      <td>0</td>\n",
       "      <td>1</td>\n",
       "    </tr>\n",
       "    <tr>\n",
       "      <th>4</th>\n",
       "      <td>0</td>\n",
       "      <td>1</td>\n",
       "      <td>1</td>\n",
       "      <td>0</td>\n",
       "      <td>1</td>\n",
       "    </tr>\n",
       "    <tr>\n",
       "      <th>5</th>\n",
       "      <td>0</td>\n",
       "      <td>1</td>\n",
       "      <td>1</td>\n",
       "      <td>1</td>\n",
       "      <td>0</td>\n",
       "    </tr>\n",
       "    <tr>\n",
       "      <th>6</th>\n",
       "      <td>0</td>\n",
       "      <td>0</td>\n",
       "      <td>1</td>\n",
       "      <td>0</td>\n",
       "      <td>1</td>\n",
       "    </tr>\n",
       "    <tr>\n",
       "      <th>7</th>\n",
       "      <td>0</td>\n",
       "      <td>1</td>\n",
       "      <td>1</td>\n",
       "      <td>0</td>\n",
       "      <td>1</td>\n",
       "    </tr>\n",
       "    <tr>\n",
       "      <th>8</th>\n",
       "      <td>0</td>\n",
       "      <td>1</td>\n",
       "      <td>0</td>\n",
       "      <td>0</td>\n",
       "      <td>1</td>\n",
       "    </tr>\n",
       "    <tr>\n",
       "      <th>9</th>\n",
       "      <td>1</td>\n",
       "      <td>0</td>\n",
       "      <td>0</td>\n",
       "      <td>0</td>\n",
       "      <td>0</td>\n",
       "    </tr>\n",
       "  </tbody>\n",
       "</table>\n",
       "</div>"
      ],
      "text/plain": [
       "   2  3  male  Q  S\n",
       "0  0  1     1  0  1\n",
       "1  0  0     0  0  0\n",
       "2  0  1     0  0  1\n",
       "3  0  0     0  0  1\n",
       "4  0  1     1  0  1\n",
       "5  0  1     1  1  0\n",
       "6  0  0     1  0  1\n",
       "7  0  1     1  0  1\n",
       "8  0  1     0  0  1\n",
       "9  1  0     0  0  0"
      ]
     },
     "execution_count": 47,
     "metadata": {},
     "output_type": "execute_result"
    }
   ],
   "source": [
    "dummydf = pd.concat(dummies, axis=1)\n",
    "dummydf.head(10)"
   ]
  },
  {
   "cell_type": "markdown",
   "metadata": {},
   "source": [
    "from the above 'dummydf' we can identify pclass, gender, embarkment easily. so we could able to drop the Pclass, Sex, Embarked columns from the main dataframe and concat the dummydf to the main dataframe."
   ]
  },
  {
   "cell_type": "markdown",
   "metadata": {},
   "source": [
    "# ***step 7 :- feature engineering-variable transformations*** "
   ]
  },
  {
   "cell_type": "code",
   "execution_count": 48,
   "metadata": {},
   "outputs": [
    {
     "data": {
      "text/html": [
       "<div>\n",
       "<style scoped>\n",
       "    .dataframe tbody tr th:only-of-type {\n",
       "        vertical-align: middle;\n",
       "    }\n",
       "\n",
       "    .dataframe tbody tr th {\n",
       "        vertical-align: top;\n",
       "    }\n",
       "\n",
       "    .dataframe thead th {\n",
       "        text-align: right;\n",
       "    }\n",
       "</style>\n",
       "<table border=\"1\" class=\"dataframe\">\n",
       "  <thead>\n",
       "    <tr style=\"text-align: right;\">\n",
       "      <th></th>\n",
       "      <th>PassengerId</th>\n",
       "      <th>Survived</th>\n",
       "      <th>Pclass</th>\n",
       "      <th>Age</th>\n",
       "      <th>SibSp</th>\n",
       "      <th>Parch</th>\n",
       "      <th>Fare</th>\n",
       "    </tr>\n",
       "  </thead>\n",
       "  <tbody>\n",
       "    <tr>\n",
       "      <th>count</th>\n",
       "      <td>891.000000</td>\n",
       "      <td>891.000000</td>\n",
       "      <td>891.000000</td>\n",
       "      <td>891.000000</td>\n",
       "      <td>891.000000</td>\n",
       "      <td>891.000000</td>\n",
       "      <td>891.000000</td>\n",
       "    </tr>\n",
       "    <tr>\n",
       "      <th>mean</th>\n",
       "      <td>446.000000</td>\n",
       "      <td>0.383838</td>\n",
       "      <td>2.308642</td>\n",
       "      <td>32.496352</td>\n",
       "      <td>0.771044</td>\n",
       "      <td>0.381594</td>\n",
       "      <td>30.131379</td>\n",
       "    </tr>\n",
       "    <tr>\n",
       "      <th>std</th>\n",
       "      <td>257.353842</td>\n",
       "      <td>0.486592</td>\n",
       "      <td>0.836071</td>\n",
       "      <td>14.751771</td>\n",
       "      <td>1.203596</td>\n",
       "      <td>0.806057</td>\n",
       "      <td>34.260377</td>\n",
       "    </tr>\n",
       "    <tr>\n",
       "      <th>min</th>\n",
       "      <td>1.000000</td>\n",
       "      <td>0.000000</td>\n",
       "      <td>1.000000</td>\n",
       "      <td>0.420000</td>\n",
       "      <td>0.000000</td>\n",
       "      <td>0.000000</td>\n",
       "      <td>0.000000</td>\n",
       "    </tr>\n",
       "    <tr>\n",
       "      <th>25%</th>\n",
       "      <td>223.500000</td>\n",
       "      <td>0.000000</td>\n",
       "      <td>2.000000</td>\n",
       "      <td>22.000000</td>\n",
       "      <td>0.000000</td>\n",
       "      <td>0.000000</td>\n",
       "      <td>7.910400</td>\n",
       "    </tr>\n",
       "    <tr>\n",
       "      <th>50%</th>\n",
       "      <td>446.000000</td>\n",
       "      <td>0.000000</td>\n",
       "      <td>3.000000</td>\n",
       "      <td>33.000000</td>\n",
       "      <td>0.000000</td>\n",
       "      <td>0.000000</td>\n",
       "      <td>14.454200</td>\n",
       "    </tr>\n",
       "    <tr>\n",
       "      <th>75%</th>\n",
       "      <td>668.500000</td>\n",
       "      <td>1.000000</td>\n",
       "      <td>3.000000</td>\n",
       "      <td>42.000000</td>\n",
       "      <td>1.000000</td>\n",
       "      <td>0.000000</td>\n",
       "      <td>31.000000</td>\n",
       "    </tr>\n",
       "    <tr>\n",
       "      <th>max</th>\n",
       "      <td>891.000000</td>\n",
       "      <td>1.000000</td>\n",
       "      <td>3.000000</td>\n",
       "      <td>80.000000</td>\n",
       "      <td>5.000000</td>\n",
       "      <td>6.000000</td>\n",
       "      <td>112.677075</td>\n",
       "    </tr>\n",
       "  </tbody>\n",
       "</table>\n",
       "</div>"
      ],
      "text/plain": [
       "       PassengerId    Survived      Pclass         Age       SibSp  \\\n",
       "count   891.000000  891.000000  891.000000  891.000000  891.000000   \n",
       "mean    446.000000    0.383838    2.308642   32.496352    0.771044   \n",
       "std     257.353842    0.486592    0.836071   14.751771    1.203596   \n",
       "min       1.000000    0.000000    1.000000    0.420000    0.000000   \n",
       "25%     223.500000    0.000000    2.000000   22.000000    0.000000   \n",
       "50%     446.000000    0.000000    3.000000   33.000000    0.000000   \n",
       "75%     668.500000    1.000000    3.000000   42.000000    1.000000   \n",
       "max     891.000000    1.000000    3.000000   80.000000    5.000000   \n",
       "\n",
       "            Parch        Fare  \n",
       "count  891.000000  891.000000  \n",
       "mean     0.381594   30.131379  \n",
       "std      0.806057   34.260377  \n",
       "min      0.000000    0.000000  \n",
       "25%      0.000000    7.910400  \n",
       "50%      0.000000   14.454200  \n",
       "75%      0.000000   31.000000  \n",
       "max      6.000000  112.677075  "
      ]
     },
     "execution_count": 48,
     "metadata": {},
     "output_type": "execute_result"
    }
   ],
   "source": [
    "ship.describe()"
   ]
  },
  {
   "cell_type": "markdown",
   "metadata": {},
   "source": [
    "variable transformations are done to change the scale of the variable with respect to the remaining features.\n",
    "So we scale the age and the fare feature to value ranges close to those of our remaining features.\n",
    "this can be achieved by standard scaling (z-score) where mean is 0 and variance is 1."
   ]
  },
  {
   "cell_type": "markdown",
   "metadata": {},
   "source": [
    "***for Age :***"
   ]
  },
  {
   "cell_type": "code",
   "execution_count": 49,
   "metadata": {},
   "outputs": [
    {
     "data": {
      "text/plain": [
       "Text(0.5, 1.0, 'histogram for Age')"
      ]
     },
     "execution_count": 49,
     "metadata": {},
     "output_type": "execute_result"
    },
    {
     "data": {
      "image/png": "[encoded data removed]",
      "text/plain": [
       "<Figure size 432x288 with 1 Axes>"
      ]
     },
     "metadata": {
      "needs_background": "light"
     },
     "output_type": "display_data"
    }
   ],
   "source": [
    "plt.hist(ship['Age'],bins=20)\n",
    "plt.title(\"histogram for Age\")"
   ]
  },
  {
   "cell_type": "markdown",
   "metadata": {},
   "source": [
    "***mean < median so left skewed***"
   ]
  },
  {
   "cell_type": "code",
   "execution_count": 50,
   "metadata": {},
   "outputs": [],
   "source": [
    "from sklearn.preprocessing import StandardScaler\n",
    "scaler = StandardScaler()\n",
    "ship.Age = scaler.fit_transform(ship.Age.values.reshape(-1, 1))"
   ]
  },
  {
   "cell_type": "markdown",
   "metadata": {},
   "source": [
    "***A normal probability plot can tell if data fits a normal distribution. A straight line in a normal probability plot indicates your data is normally distributed. A skewed line means that your data is not normally distributed.***"
   ]
  },
  {
   "cell_type": "code",
   "execution_count": 51,
   "metadata": {},
   "outputs": [
    {
     "data": {
      "image/png": "[encoded data removed]",
      "text/plain": [
       "<Figure size 720x360 with 1 Axes>"
      ]
     },
     "metadata": {
      "needs_background": "light"
     },
     "output_type": "display_data"
    }
   ],
   "source": [
    "import scipy.stats as stat          #scipy has a stat lib. to display probplot                                \n",
    "plt.figure(figsize=(10,5))          #to check whether the feature is normally distributed ot not\n",
    "ship[\"Age\"].hist()\n",
    "plt.subplot(1,2,2)\n",
    "stat.probplot(ship[\"Age\"],dist='norm',plot=plt)\n",
    "plt.show()"
   ]
  },
  {
   "cell_type": "markdown",
   "metadata": {},
   "source": [
    "***for Fare :***"
   ]
  },
  {
   "cell_type": "code",
   "execution_count": 52,
   "metadata": {},
   "outputs": [
    {
     "data": {
      "text/plain": [
       "Text(0.5, 1.0, 'histogram for Fare')"
      ]
     },
     "execution_count": 52,
     "metadata": {},
     "output_type": "execute_result"
    },
    {
     "data": {
      "image/png": "[encoded data removed]",
      "text/plain": [
       "<Figure size 432x288 with 1 Axes>"
      ]
     },
     "metadata": {
      "needs_background": "light"
     },
     "output_type": "display_data"
    }
   ],
   "source": [
    "plt.hist(ship['Fare'],bins=20)\n",
    "plt.title(\"histogram for Fare\")"
   ]
  },
  {
   "cell_type": "markdown",
   "metadata": {},
   "source": [
    "***mean > median so right skewed***"
   ]
  },
  {
   "cell_type": "markdown",
   "metadata": {},
   "source": [
    "for fare feature a simple log transformation can be done to scale it. But still we dont have zero mean and unit variance, in order to achieve this we can again do standard scaling after log transformation."
   ]
  },
  {
   "cell_type": "code",
   "execution_count": 53,
   "metadata": {},
   "outputs": [],
   "source": [
    "ship['Fare']=np.log1p(ship['Fare'])"
   ]
  },
  {
   "cell_type": "code",
   "execution_count": 54,
   "metadata": {},
   "outputs": [],
   "source": [
    "ship.Fare = scaler.fit_transform(ship.Fare.values.reshape(-1,1))"
   ]
  },
  {
   "cell_type": "code",
   "execution_count": 55,
   "metadata": {},
   "outputs": [
    {
     "data": {
      "image/png": "[encoded data removed]",
      "text/plain": [
       "<Figure size 720x360 with 1 Axes>"
      ]
     },
     "metadata": {
      "needs_background": "light"
     },
     "output_type": "display_data"
    }
   ],
   "source": [
    "plt.figure(figsize=(10,5))   \n",
    "ship[\"Fare\"].hist()\n",
    "plt.subplot(1,2,2)\n",
    "stat.probplot(ship[\"Fare\"],dist='norm',plot=plt)\n",
    "plt.show()"
   ]
  },
  {
   "cell_type": "code",
   "execution_count": 56,
   "metadata": {},
   "outputs": [
    {
     "data": {
      "text/plain": [
       "Text(0.5, 1.0, 'New Dist plot for Age after variable transformation')"
      ]
     },
     "execution_count": 56,
     "metadata": {},
     "output_type": "execute_result"
    },
    {
     "data": {
      "image/png": "[encoded data removed]",
      "text/plain": [
       "<Figure size 432x288 with 1 Axes>"
      ]
     },
     "metadata": {
      "needs_background": "light"
     },
     "output_type": "display_data"
    }
   ],
   "source": [
    "sns.distplot(ship['Age'], bins=4)\n",
    "plt.title(\"New Dist plot for Age after variable transformation\")"
   ]
  },
  {
   "cell_type": "code",
   "execution_count": 57,
   "metadata": {},
   "outputs": [
    {
     "data": {
      "text/plain": [
       "Text(0.5, 1.0, 'New Dist plot for Fare after variable transformation')"
      ]
     },
     "execution_count": 57,
     "metadata": {},
     "output_type": "execute_result"
    },
    {
     "data": {
      "image/png": "[encoded data removed]",
      "text/plain": [
       "<Figure size 432x288 with 1 Axes>"
      ]
     },
     "metadata": {
      "needs_background": "light"
     },
     "output_type": "display_data"
    }
   ],
   "source": [
    "sns.distplot(ship['Fare'], bins=4)\n",
    "plt.title(\"New Dist plot for Fare after variable transformation\")"
   ]
  }
 ],
 "metadata": {
  "kernelspec": {
   "display_name": "Python 3",
   "language": "python",
   "name": "python3"
  },
  "language_info": {
   "codemirror_mode": {
    "name": "ipython",
    "version": 3
   },
   "file_extension": ".py",
   "mimetype": "text/x-python",
   "name": "python",
   "nbconvert_exporter": "python",
   "pygments_lexer": "ipython3",
   "version": "3.8.2"
  }
 },
 "nbformat": 4,
 "nbformat_minor": 4
}
